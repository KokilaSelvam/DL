{
 "cells": [
  {
   "cell_type": "code",
   "execution_count": 17,
   "id": "4f4d2028",
   "metadata": {},
   "outputs": [],
   "source": [
    "import os,cv2"
   ]
  },
  {
   "cell_type": "code",
   "execution_count": 22,
   "id": "89dbd386",
   "metadata": {},
   "outputs": [],
   "source": [
    "dataset='data/test'\n",
    "sub_data='kokila'\n",
    "path=os.path.join(dataset,sub_data)\n",
    "if not os.path.isdir(path):\n",
    "    os.mkdir(path)"
   ]
  },
  {
   "cell_type": "code",
   "execution_count": 19,
   "id": "4ca26278",
   "metadata": {},
   "outputs": [],
   "source": [
    "(width,height)=(224,224)"
   ]
  },
  {
   "cell_type": "code",
   "execution_count": 23,
   "id": "ab80d344",
   "metadata": {},
   "outputs": [],
   "source": [
    "webcam=cv2.VideoCapture(0)\n",
    "count=1\n",
    "while count<31:\n",
    "    (read,im)=webcam.read()\n",
    "    cv2.imshow('image',im)\n",
    "    face_resiz=cv2.resize(im,(width,height))\n",
    "    cv2.imwrite('%s/%s.jpg'%(path,count),face_resiz)\n",
    "    key=cv2.waitKey(10)\n",
    "    count+=1\n",
    "    if key==27:\n",
    "       break\n",
    "webcam.release()\n",
    "cv2.destroyAllWindows()"
   ]
  },
  {
   "cell_type": "code",
   "execution_count": null,
   "id": "91953850",
   "metadata": {},
   "outputs": [],
   "source": []
  }
 ],
 "metadata": {
  "kernelspec": {
   "display_name": "Python 3 (ipykernel)",
   "language": "python",
   "name": "python3"
  },
  "language_info": {
   "codemirror_mode": {
    "name": "ipython",
    "version": 3
   },
   "file_extension": ".py",
   "mimetype": "text/x-python",
   "name": "python",
   "nbconvert_exporter": "python",
   "pygments_lexer": "ipython3",
   "version": "3.7.13"
  }
 },
 "nbformat": 4,
 "nbformat_minor": 5
}
