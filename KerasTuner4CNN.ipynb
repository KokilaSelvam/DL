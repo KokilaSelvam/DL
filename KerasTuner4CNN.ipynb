{
 "cells": [
  {
   "cell_type": "code",
   "execution_count": 1,
   "id": "a3a41f7e",
   "metadata": {
    "execution": {
     "iopub.execute_input": "2022-06-20T11:15:18.850022Z",
     "iopub.status.busy": "2022-06-20T11:15:18.849493Z",
     "iopub.status.idle": "2022-06-20T11:15:22.214849Z",
     "shell.execute_reply": "2022-06-20T11:15:22.213927Z",
     "shell.execute_reply.started": "2022-06-20T11:15:18.849883Z"
    }
   },
   "outputs": [],
   "source": [
    "import tensorflow as tf\n",
    "from tensorflow import keras\n",
    "import numpy as np"
   ]
  },
  {
   "cell_type": "code",
   "execution_count": 2,
   "id": "3cc72510",
   "metadata": {
    "execution": {
     "iopub.execute_input": "2022-06-20T11:15:25.244046Z",
     "iopub.status.busy": "2022-06-20T11:15:25.243632Z",
     "iopub.status.idle": "2022-06-20T11:15:25.252056Z",
     "shell.execute_reply": "2022-06-20T11:15:25.250524Z",
     "shell.execute_reply.started": "2022-06-20T11:15:25.244003Z"
    }
   },
   "outputs": [
    {
     "name": "stdout",
     "output_type": "stream",
     "text": [
      "2.7.0\n"
     ]
    }
   ],
   "source": [
    "print(tf.__version__)"
   ]
  },
  {
   "cell_type": "code",
   "execution_count": 3,
   "id": "10b89887-7f9a-418f-ba39-605f421d5f72",
   "metadata": {
    "execution": {
     "iopub.execute_input": "2022-06-20T11:15:42.310511Z",
     "iopub.status.busy": "2022-06-20T11:15:42.310177Z",
     "iopub.status.idle": "2022-06-20T11:15:42.428352Z",
     "shell.execute_reply": "2022-06-20T11:15:42.427341Z",
     "shell.execute_reply.started": "2022-06-20T11:15:42.310475Z"
    }
   },
   "outputs": [
    {
     "name": "stderr",
     "output_type": "stream",
     "text": [
      "2022-06-20 11:15:42.333379: I tensorflow/stream_executor/cuda/cuda_gpu_executor.cc:1052] successful NUMA node read from SysFS had negative value (-1), but there must be at least one NUMA node, so returning NUMA node zero\n",
      "2022-06-20 11:15:42.402745: I tensorflow/stream_executor/cuda/cuda_gpu_executor.cc:1052] successful NUMA node read from SysFS had negative value (-1), but there must be at least one NUMA node, so returning NUMA node zero\n",
      "2022-06-20 11:15:42.403316: I tensorflow/stream_executor/cuda/cuda_gpu_executor.cc:1052] successful NUMA node read from SysFS had negative value (-1), but there must be at least one NUMA node, so returning NUMA node zero\n"
     ]
    },
    {
     "data": {
      "text/plain": [
       "[PhysicalDevice(name='/physical_device:GPU:0', device_type='GPU')]"
      ]
     },
     "execution_count": 3,
     "metadata": {},
     "output_type": "execute_result"
    }
   ],
   "source": [
    "gpus = tf.config.list_physical_devices('GPU')\n",
    "gpus"
   ]
  },
  {
   "cell_type": "code",
   "execution_count": 4,
   "id": "eff55e29-1bb7-4d88-abe8-c4a18f32c598",
   "metadata": {
    "execution": {
     "iopub.execute_input": "2022-06-20T11:16:14.879203Z",
     "iopub.status.busy": "2022-06-20T11:16:14.878863Z",
     "iopub.status.idle": "2022-06-20T11:16:15.861951Z",
     "shell.execute_reply": "2022-06-20T11:16:15.859498Z",
     "shell.execute_reply.started": "2022-06-20T11:16:14.879167Z"
    }
   },
   "outputs": [
    {
     "name": "stdout",
     "output_type": "stream",
     "text": [
      "1 Physical GPUs, 1 Logical GPUs\n"
     ]
    },
    {
     "name": "stderr",
     "output_type": "stream",
     "text": [
      "2022-06-20 11:16:14.883727: I tensorflow/stream_executor/cuda/cuda_gpu_executor.cc:1052] successful NUMA node read from SysFS had negative value (-1), but there must be at least one NUMA node, so returning NUMA node zero\n",
      "2022-06-20 11:16:14.884512: I tensorflow/stream_executor/cuda/cuda_gpu_executor.cc:1052] successful NUMA node read from SysFS had negative value (-1), but there must be at least one NUMA node, so returning NUMA node zero\n",
      "2022-06-20 11:16:14.885271: I tensorflow/stream_executor/cuda/cuda_gpu_executor.cc:1052] successful NUMA node read from SysFS had negative value (-1), but there must be at least one NUMA node, so returning NUMA node zero\n",
      "2022-06-20 11:16:15.852589: I tensorflow/stream_executor/cuda/cuda_gpu_executor.cc:1052] successful NUMA node read from SysFS had negative value (-1), but there must be at least one NUMA node, so returning NUMA node zero\n",
      "2022-06-20 11:16:15.852914: I tensorflow/stream_executor/cuda/cuda_gpu_executor.cc:1052] successful NUMA node read from SysFS had negative value (-1), but there must be at least one NUMA node, so returning NUMA node zero\n",
      "2022-06-20 11:16:15.853270: I tensorflow/stream_executor/cuda/cuda_gpu_executor.cc:1052] successful NUMA node read from SysFS had negative value (-1), but there must be at least one NUMA node, so returning NUMA node zero\n",
      "2022-06-20 11:16:15.853475: I tensorflow/core/common_runtime/gpu/gpu_device.cc:1525] Created device /job:localhost/replica:0/task:0/device:GPU:0 with 7275 MB memory:  -> device: 0, name: Quadro M4000, pci bus id: 0000:00:05.0, compute capability: 5.2\n"
     ]
    }
   ],
   "source": [
    "if gpus:\n",
    "    try:\n",
    "        for gpu in gpus:\n",
    "            tf.config.experimental.set_memory_growth(gpu, True)\n",
    "        logical_gpus = tf.config.list_logical_devices('GPU')\n",
    "        print(len(gpus), \"Physical GPUs,\", len(logical_gpus), \"Logical GPUs\")\n",
    "    except RuntimeError as e:\n",
    "        print(e)"
   ]
  },
  {
   "cell_type": "code",
   "execution_count": 5,
   "id": "3ad757e5",
   "metadata": {
    "execution": {
     "iopub.execute_input": "2022-06-20T11:16:21.970727Z",
     "iopub.status.busy": "2022-06-20T11:16:21.970437Z",
     "iopub.status.idle": "2022-06-20T11:16:21.976500Z",
     "shell.execute_reply": "2022-06-20T11:16:21.975347Z",
     "shell.execute_reply.started": "2022-06-20T11:16:21.970700Z"
    }
   },
   "outputs": [],
   "source": [
    "fashion_mnist=keras.datasets.mnist"
   ]
  },
  {
   "cell_type": "code",
   "execution_count": 10,
   "id": "c0348736",
   "metadata": {
    "execution": {
     "iopub.execute_input": "2022-06-20T11:17:11.942749Z",
     "iopub.status.busy": "2022-06-20T11:17:11.941795Z",
     "iopub.status.idle": "2022-06-20T11:17:12.928330Z",
     "shell.execute_reply": "2022-06-20T11:17:12.926231Z",
     "shell.execute_reply.started": "2022-06-20T11:17:11.942706Z"
    }
   },
   "outputs": [
    {
     "name": "stdout",
     "output_type": "stream",
     "text": [
      "Downloading data from https://storage.googleapis.com/tensorflow/tf-keras-datasets/mnist.npz\n",
      "11493376/11490434 [==============================] - 1s 0us/step\n",
      "11501568/11490434 [==============================] - 1s 0us/step\n"
     ]
    }
   ],
   "source": [
    "(trainImages,trainLabels),(testImages,testLabels)=fashion_mnist.load_data()"
   ]
  },
  {
   "cell_type": "code",
   "execution_count": 7,
   "id": "a0d6948d",
   "metadata": {
    "execution": {
     "iopub.execute_input": "2022-06-20T11:16:38.194795Z",
     "iopub.status.busy": "2022-06-20T11:16:38.194403Z",
     "iopub.status.idle": "2022-06-20T11:16:39.931917Z",
     "shell.execute_reply": "2022-06-20T11:16:39.930600Z",
     "shell.execute_reply.started": "2022-06-20T11:16:38.194753Z"
    }
   },
   "outputs": [],
   "source": [
    "import matplotlib.pyplot as plt"
   ]
  },
  {
   "cell_type": "code",
   "execution_count": 12,
   "id": "91f86fa5",
   "metadata": {
    "execution": {
     "iopub.execute_input": "2022-06-20T11:18:21.642905Z",
     "iopub.status.busy": "2022-06-20T11:18:21.642526Z",
     "iopub.status.idle": "2022-06-20T11:18:21.803862Z",
     "shell.execute_reply": "2022-06-20T11:18:21.802877Z",
     "shell.execute_reply.started": "2022-06-20T11:18:21.642864Z"
    }
   },
   "outputs": [
    {
     "data": {
      "text/plain": [
       "<matplotlib.image.AxesImage at 0x7fa31d7b6460>"
      ]
     },
     "execution_count": 12,
     "metadata": {},
     "output_type": "execute_result"
    },
    {
     "data": {
      "image/png": "[encoded data removed]",
      "text/plain": [
       "<Figure size 432x288 with 1 Axes>"
      ]
     },
     "metadata": {
      "needs_background": "light"
     },
     "output_type": "display_data"
    }
   ],
   "source": [
    "plt.imshow(trainImages[4],cmap='gray')"
   ]
  },
  {
   "cell_type": "code",
   "execution_count": 13,
   "id": "e6c9b5f4",
   "metadata": {
    "execution": {
     "iopub.execute_input": "2022-06-20T11:18:26.218892Z",
     "iopub.status.busy": "2022-06-20T11:18:26.218230Z",
     "iopub.status.idle": "2022-06-20T11:18:26.224051Z",
     "shell.execute_reply": "2022-06-20T11:18:26.223298Z",
     "shell.execute_reply.started": "2022-06-20T11:18:26.218861Z"
    }
   },
   "outputs": [
    {
     "data": {
      "text/plain": [
       "(28, 28)"
      ]
     },
     "execution_count": 13,
     "metadata": {},
     "output_type": "execute_result"
    }
   ],
   "source": [
    "trainImages[0].shape"
   ]
  },
  {
   "cell_type": "code",
   "execution_count": 14,
   "id": "fc62454a",
   "metadata": {
    "execution": {
     "iopub.execute_input": "2022-06-20T11:18:27.922893Z",
     "iopub.status.busy": "2022-06-20T11:18:27.922567Z",
     "iopub.status.idle": "2022-06-20T11:18:27.928724Z",
     "shell.execute_reply": "2022-06-20T11:18:27.927272Z",
     "shell.execute_reply.started": "2022-06-20T11:18:27.922859Z"
    }
   },
   "outputs": [],
   "source": [
    "trainImages=trainImages.reshape(len(trainImages),28,28,1)\n",
    "testImages=testImages.reshape(len(testImages),28,28,1)"
   ]
  },
  {
   "cell_type": "code",
   "execution_count": 17,
   "id": "5eaa0919-f58c-4a48-93cd-4c52c92b3dea",
   "metadata": {
    "execution": {
     "iopub.execute_input": "2022-06-20T11:19:33.036668Z",
     "iopub.status.busy": "2022-06-20T11:19:33.036382Z",
     "iopub.status.idle": "2022-06-20T11:19:37.525770Z",
     "shell.execute_reply": "2022-06-20T11:19:37.524367Z",
     "shell.execute_reply.started": "2022-06-20T11:19:33.036638Z"
    }
   },
   "outputs": [
    {
     "name": "stdout",
     "output_type": "stream",
     "text": [
      "Collecting keras-tuner\n",
      "  Downloading keras_tuner-1.1.2-py3-none-any.whl (133 kB)\n",
      "\u001b[2K     \u001b[90m━━━━━━━━━━━━━━━━━━━━━━━━━━━━━━━━━━━━━━\u001b[0m \u001b[32m133.7/133.7 KB\u001b[0m \u001b[31m14.8 MB/s\u001b[0m eta \u001b[36m0:00:00\u001b[0m\n",
      "\u001b[?25hCollecting kt-legacy\n",
      "  Downloading kt_legacy-1.0.4-py3-none-any.whl (9.6 kB)\n",
      "Requirement already satisfied: packaging in /usr/local/lib/python3.8/dist-packages (from keras-tuner) (21.3)\n",
      "Requirement already satisfied: ipython in /usr/local/lib/python3.8/dist-packages (from keras-tuner) (7.31.1)\n",
      "Requirement already satisfied: requests in /usr/local/lib/python3.8/dist-packages (from keras-tuner) (2.27.1)\n",
      "Requirement already satisfied: tensorboard in /usr/local/lib/python3.8/dist-packages (from keras-tuner) (2.7.0)\n",
      "Requirement already satisfied: numpy in /usr/local/lib/python3.8/dist-packages (from keras-tuner) (1.19.4)\n",
      "Requirement already satisfied: setuptools>=18.5 in /usr/local/lib/python3.8/dist-packages (from ipython->keras-tuner) (59.4.0)\n",
      "Requirement already satisfied: pygments in /usr/local/lib/python3.8/dist-packages (from ipython->keras-tuner) (2.11.2)\n",
      "Requirement already satisfied: traitlets>=4.2 in /usr/local/lib/python3.8/dist-packages (from ipython->keras-tuner) (5.1.1)\n",
      "Requirement already satisfied: pexpect>4.3 in /usr/local/lib/python3.8/dist-packages (from ipython->keras-tuner) (4.7.0)\n",
      "Requirement already satisfied: prompt-toolkit!=3.0.0,!=3.0.1,<3.1.0,>=2.0.0 in /usr/local/lib/python3.8/dist-packages (from ipython->keras-tuner) (3.0.27)\n",
      "Requirement already satisfied: jedi>=0.16 in /usr/local/lib/python3.8/dist-packages (from ipython->keras-tuner) (0.18.1)\n",
      "Requirement already satisfied: matplotlib-inline in /usr/local/lib/python3.8/dist-packages (from ipython->keras-tuner) (0.1.3)\n",
      "Requirement already satisfied: backcall in /usr/local/lib/python3.8/dist-packages (from ipython->keras-tuner) (0.2.0)\n",
      "Requirement already satisfied: pickleshare in /usr/local/lib/python3.8/dist-packages (from ipython->keras-tuner) (0.7.5)\n",
      "Requirement already satisfied: decorator in /usr/local/lib/python3.8/dist-packages (from ipython->keras-tuner) (5.1.1)\n",
      "Requirement already satisfied: pyparsing!=3.0.5,>=2.0.2 in /usr/local/lib/python3.8/dist-packages (from packaging->keras-tuner) (3.0.7)\n",
      "Requirement already satisfied: idna<4,>=2.5 in /usr/local/lib/python3.8/dist-packages (from requests->keras-tuner) (3.3)\n",
      "Requirement already satisfied: certifi>=2017.4.17 in /usr/local/lib/python3.8/dist-packages (from requests->keras-tuner) (2021.10.8)\n",
      "Requirement already satisfied: charset-normalizer~=2.0.0 in /usr/local/lib/python3.8/dist-packages (from requests->keras-tuner) (2.0.11)\n",
      "Requirement already satisfied: urllib3<1.27,>=1.21.1 in /usr/local/lib/python3.8/dist-packages (from requests->keras-tuner) (1.26.8)\n",
      "Requirement already satisfied: tensorboard-plugin-wit>=1.6.0 in /usr/local/lib/python3.8/dist-packages (from tensorboard->keras-tuner) (1.8.1)\n",
      "Requirement already satisfied: tensorboard-data-server<0.7.0,>=0.6.0 in /usr/local/lib/python3.8/dist-packages (from tensorboard->keras-tuner) (0.6.1)\n",
      "Requirement already satisfied: werkzeug>=0.11.15 in /usr/local/lib/python3.8/dist-packages (from tensorboard->keras-tuner) (2.0.3)\n",
      "Requirement already satisfied: google-auth<3,>=1.6.3 in /usr/local/lib/python3.8/dist-packages (from tensorboard->keras-tuner) (2.6.0)\n",
      "Requirement already satisfied: absl-py>=0.4 in /usr/local/lib/python3.8/dist-packages (from tensorboard->keras-tuner) (0.12.0)\n",
      "Requirement already satisfied: wheel>=0.26 in /usr/local/lib/python3.8/dist-packages (from tensorboard->keras-tuner) (0.35.1)\n",
      "Requirement already satisfied: google-auth-oauthlib<0.5,>=0.4.1 in /usr/local/lib/python3.8/dist-packages (from tensorboard->keras-tuner) (0.4.6)\n",
      "Requirement already satisfied: markdown>=2.6.8 in /usr/local/lib/python3.8/dist-packages (from tensorboard->keras-tuner) (3.3.6)\n",
      "Requirement already satisfied: protobuf>=3.6.0 in /usr/local/lib/python3.8/dist-packages (from tensorboard->keras-tuner) (3.17.3)\n",
      "Requirement already satisfied: grpcio>=1.24.3 in /usr/local/lib/python3.8/dist-packages (from tensorboard->keras-tuner) (1.39.0)\n",
      "Requirement already satisfied: six in /usr/local/lib/python3.8/dist-packages (from absl-py>=0.4->tensorboard->keras-tuner) (1.15.0)\n",
      "Requirement already satisfied: cachetools<6.0,>=2.0.0 in /usr/local/lib/python3.8/dist-packages (from google-auth<3,>=1.6.3->tensorboard->keras-tuner) (5.0.0)\n",
      "Requirement already satisfied: pyasn1-modules>=0.2.1 in /usr/local/lib/python3.8/dist-packages (from google-auth<3,>=1.6.3->tensorboard->keras-tuner) (0.2.8)\n",
      "Requirement already satisfied: rsa<5,>=3.1.4 in /usr/local/lib/python3.8/dist-packages (from google-auth<3,>=1.6.3->tensorboard->keras-tuner) (4.8)\n",
      "Requirement already satisfied: requests-oauthlib>=0.7.0 in /usr/local/lib/python3.8/dist-packages (from google-auth-oauthlib<0.5,>=0.4.1->tensorboard->keras-tuner) (1.3.1)\n",
      "Requirement already satisfied: parso<0.9.0,>=0.8.0 in /usr/local/lib/python3.8/dist-packages (from jedi>=0.16->ipython->keras-tuner) (0.8.3)\n",
      "Requirement already satisfied: importlib-metadata>=4.4 in /usr/local/lib/python3.8/dist-packages (from markdown>=2.6.8->tensorboard->keras-tuner) (4.10.1)\n",
      "Requirement already satisfied: ptyprocess>=0.5 in /usr/local/lib/python3.8/dist-packages (from pexpect>4.3->ipython->keras-tuner) (0.7.0)\n",
      "Requirement already satisfied: wcwidth in /usr/local/lib/python3.8/dist-packages (from prompt-toolkit!=3.0.0,!=3.0.1,<3.1.0,>=2.0.0->ipython->keras-tuner) (0.2.5)\n",
      "Requirement already satisfied: zipp>=0.5 in /usr/local/lib/python3.8/dist-packages (from importlib-metadata>=4.4->markdown>=2.6.8->tensorboard->keras-tuner) (3.7.0)\n",
      "Requirement already satisfied: pyasn1<0.5.0,>=0.4.6 in /usr/local/lib/python3.8/dist-packages (from pyasn1-modules>=0.2.1->google-auth<3,>=1.6.3->tensorboard->keras-tuner) (0.4.8)\n",
      "Requirement already satisfied: oauthlib>=3.0.0 in /usr/local/lib/python3.8/dist-packages (from requests-oauthlib>=0.7.0->google-auth-oauthlib<0.5,>=0.4.1->tensorboard->keras-tuner) (3.2.0)\n",
      "Installing collected packages: kt-legacy, keras-tuner\n",
      "Successfully installed keras-tuner-1.1.2 kt-legacy-1.0.4\n",
      "\u001b[33mWARNING: Running pip as the 'root' user can result in broken permissions and conflicting behaviour with the system package manager. It is recommended to use a virtual environment instead: https://pip.pypa.io/warnings/venv\u001b[0m\u001b[33m\n",
      "\u001b[0m\u001b[33mWARNING: You are using pip version 22.0.3; however, version 22.1.2 is available.\n",
      "You should consider upgrading via the '/usr/bin/python -m pip install --upgrade pip' command.\u001b[0m\u001b[33m\n",
      "\u001b[0m"
     ]
    }
   ],
   "source": [
    "!pip install keras-tuner"
   ]
  },
  {
   "cell_type": "code",
   "execution_count": 19,
   "id": "e99429d7",
   "metadata": {
    "execution": {
     "iopub.execute_input": "2022-06-20T11:19:58.819625Z",
     "iopub.status.busy": "2022-06-20T11:19:58.819375Z",
     "iopub.status.idle": "2022-06-20T11:19:58.823382Z",
     "shell.execute_reply": "2022-06-20T11:19:58.822543Z",
     "shell.execute_reply.started": "2022-06-20T11:19:58.819598Z"
    }
   },
   "outputs": [],
   "source": [
    "from keras_tuner import RandomSearch\n",
    "from kerastuner.engine.hyperparameters import HyperParameters"
   ]
  },
  {
   "cell_type": "code",
   "execution_count": 20,
   "id": "aede4861",
   "metadata": {
    "execution": {
     "iopub.execute_input": "2022-06-20T11:20:03.200449Z",
     "iopub.status.busy": "2022-06-20T11:20:03.200138Z",
     "iopub.status.idle": "2022-06-20T11:20:03.214201Z",
     "shell.execute_reply": "2022-06-20T11:20:03.212928Z",
     "shell.execute_reply.started": "2022-06-20T11:20:03.200415Z"
    }
   },
   "outputs": [],
   "source": [
    "def buildmodel(hp):\n",
    "    model=keras.Sequential()\n",
    "    model.add(keras.layers.Conv2D(filters=hp.Int(\"filterConv\",min_value=32,max_value=128,step=16),\n",
    "    kernel_size=hp.Choice('kernel_conv',values=[3,5]),\n",
    "    activation='relu',input_shape=(28,28,1)))\n",
    "    model.add(keras.layers.Conv2D(filters=hp.Int('conFilter',min_value=32,max_value=128,step=16),\n",
    "                                kernel_size=hp.Choice('kernel_conv',values=[3,5]),activation='relu'))\n",
    "    model.add(keras.layers.Conv2D(filters=hp.Int('conFilter',min_value=32,max_value=128,step=16),\n",
    "                                  kernel_size=hp.Choice('kernel_conv',values=[3,5]),activation='relu'))\n",
    "    model.add(keras.layers.Flatten())\n",
    "    model.add(keras.layers.Dense(units=hp.Int('denseFilter',min_value=32,max_value=128,step=16),activation='relu'))\n",
    "    model.add(keras.layers.Dense(10,activation='softmax'))\n",
    "    optimizer=keras.optimizers.Adam(hp.Choice('learning_rate',values=[1e-2,1e-3]))\n",
    "    model.compile(optimizer=optimizer,loss='sparse_categorical_crossentropy',metrics=['accuracy'])\n",
    "    return model"
   ]
  },
  {
   "cell_type": "code",
   "execution_count": 21,
   "id": "d744913d",
   "metadata": {
    "execution": {
     "iopub.execute_input": "2022-06-20T11:20:08.126119Z",
     "iopub.status.busy": "2022-06-20T11:20:08.125773Z",
     "iopub.status.idle": "2022-06-20T11:20:08.323365Z",
     "shell.execute_reply": "2022-06-20T11:20:08.322523Z",
     "shell.execute_reply.started": "2022-06-20T11:20:08.126083Z"
    }
   },
   "outputs": [],
   "source": [
    "tuner_search=RandomSearch(buildmodel,objective='val_accuracy',max_trials=5,directory='output',project_name='mnistFashion')"
   ]
  },
  {
   "cell_type": "code",
   "execution_count": 22,
   "id": "dc53c557",
   "metadata": {
    "execution": {
     "iopub.execute_input": "2022-06-20T11:20:12.074439Z",
     "iopub.status.busy": "2022-06-20T11:20:12.074025Z",
     "iopub.status.idle": "2022-06-20T11:32:21.846338Z",
     "shell.execute_reply": "2022-06-20T11:32:21.845297Z",
     "shell.execute_reply.started": "2022-06-20T11:20:12.074400Z"
    },
    "scrolled": true
   },
   "outputs": [
    {
     "name": "stdout",
     "output_type": "stream",
     "text": [
      "Trial 5 Complete [00h 03m 24s]\n",
      "val_accuracy: 0.9614999890327454\n",
      "\n",
      "Best val_accuracy So Far: 0.9861666560173035\n",
      "Total elapsed time: 00h 12m 08s\n",
      "INFO:tensorflow:Oracle triggered exit\n"
     ]
    }
   ],
   "source": [
    "tuner_search.search(trainImages,trainLabels,epochs=5,validation_split=0.1)"
   ]
  },
  {
   "cell_type": "code",
   "execution_count": 23,
   "id": "2103c6dd",
   "metadata": {
    "execution": {
     "iopub.execute_input": "2022-06-20T11:33:44.824894Z",
     "iopub.status.busy": "2022-06-20T11:33:44.824624Z",
     "iopub.status.idle": "2022-06-20T11:33:45.220821Z",
     "shell.execute_reply": "2022-06-20T11:33:45.220176Z",
     "shell.execute_reply.started": "2022-06-20T11:33:44.824867Z"
    }
   },
   "outputs": [],
   "source": [
    "model=tuner_search.get_best_models(num_models=1)[0]"
   ]
  },
  {
   "cell_type": "code",
   "execution_count": 24,
   "id": "6515353a-e8f2-4928-9643-c1742e20872e",
   "metadata": {
    "execution": {
     "iopub.execute_input": "2022-06-20T11:35:19.026119Z",
     "iopub.status.busy": "2022-06-20T11:35:19.025403Z",
     "iopub.status.idle": "2022-06-20T11:35:19.031620Z",
     "shell.execute_reply": "2022-06-20T11:35:19.030928Z",
     "shell.execute_reply.started": "2022-06-20T11:35:19.026089Z"
    }
   },
   "outputs": [
    {
     "name": "stdout",
     "output_type": "stream",
     "text": [
      "Model: \"sequential\"\n",
      "_________________________________________________________________\n",
      " Layer (type)                Output Shape              Param #   \n",
      "=================================================================\n",
      " conv2d (Conv2D)             (None, 26, 26, 64)        640       \n",
      "                                                                 \n",
      " conv2d_1 (Conv2D)           (None, 24, 24, 64)        36928     \n",
      "                                                                 \n",
      " conv2d_2 (Conv2D)           (None, 22, 22, 64)        36928     \n",
      "                                                                 \n",
      " flatten (Flatten)           (None, 30976)             0         \n",
      "                                                                 \n",
      " dense (Dense)               (None, 48)                1486896   \n",
      "                                                                 \n",
      " dense_1 (Dense)             (None, 10)                490       \n",
      "                                                                 \n",
      "=================================================================\n",
      "Total params: 1,561,882\n",
      "Trainable params: 1,561,882\n",
      "Non-trainable params: 0\n",
      "_________________________________________________________________\n"
     ]
    }
   ],
   "source": [
    "model.summary()"
   ]
  },
  {
   "cell_type": "code",
   "execution_count": 25,
   "id": "bd8bc5ae-39c0-4058-8b91-15c3a97d12e9",
   "metadata": {
    "execution": {
     "iopub.execute_input": "2022-06-20T11:37:12.733590Z",
     "iopub.status.busy": "2022-06-20T11:37:12.733309Z",
     "iopub.status.idle": "2022-06-20T11:39:16.627753Z",
     "shell.execute_reply": "2022-06-20T11:39:16.626017Z",
     "shell.execute_reply.started": "2022-06-20T11:37:12.733563Z"
    }
   },
   "outputs": [
    {
     "name": "stdout",
     "output_type": "stream",
     "text": [
      "Epoch 4/10\n",
      "1688/1688 [==============================] - 16s 9ms/step - loss: 0.0434 - accuracy: 0.9860 - val_loss: 0.0551 - val_accuracy: 0.9832\n",
      "Epoch 5/10\n",
      "1688/1688 [==============================] - 17s 10ms/step - loss: 0.0308 - accuracy: 0.9901 - val_loss: 0.0755 - val_accuracy: 0.9832\n",
      "Epoch 6/10\n",
      "1688/1688 [==============================] - 19s 11ms/step - loss: 0.0278 - accuracy: 0.9913 - val_loss: 0.0589 - val_accuracy: 0.9862\n",
      "Epoch 7/10\n",
      "1688/1688 [==============================] - 19s 11ms/step - loss: 0.0203 - accuracy: 0.9934 - val_loss: 0.0589 - val_accuracy: 0.9858\n",
      "Epoch 8/10\n",
      "1688/1688 [==============================] - 18s 11ms/step - loss: 0.0214 - accuracy: 0.9940 - val_loss: 0.0749 - val_accuracy: 0.9858\n",
      "Epoch 9/10\n",
      "1688/1688 [==============================] - 17s 10ms/step - loss: 0.0162 - accuracy: 0.9953 - val_loss: 0.0797 - val_accuracy: 0.9858\n",
      "Epoch 10/10\n",
      "1688/1688 [==============================] - 19s 11ms/step - loss: 0.0139 - accuracy: 0.9961 - val_loss: 0.0854 - val_accuracy: 0.9868\n"
     ]
    },
    {
     "data": {
      "text/plain": [
       "<keras.callbacks.History at 0x7fa20c57a9d0>"
      ]
     },
     "execution_count": 25,
     "metadata": {},
     "output_type": "execute_result"
    }
   ],
   "source": [
    "model.fit(trainImages, trainLabels, epochs=10, validation_split=0.1, initial_epoch=3)"
   ]
  }
 ],
 "metadata": {
  "kernelspec": {
   "display_name": "Python 3 (ipykernel)",
   "language": "python",
   "name": "python3"
  },
  "language_info": {
   "codemirror_mode": {
    "name": "ipython",
    "version": 3
   },
   "file_extension": ".py",
   "mimetype": "text/x-python",
   "name": "python",
   "nbconvert_exporter": "python",
   "pygments_lexer": "ipython3",
   "version": "3.8.10"
  }
 },
 "nbformat": 4,
 "nbformat_minor": 5
}
