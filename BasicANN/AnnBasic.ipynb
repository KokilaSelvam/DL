{
 "cells": [
  {
   "cell_type": "code",
   "execution_count": 2,
   "id": "6bbd7d8a",
   "metadata": {
    "execution": {
     "iopub.execute_input": "2022-06-18T07:11:15.497113Z",
     "iopub.status.busy": "2022-06-18T07:11:15.496523Z",
     "iopub.status.idle": "2022-06-18T07:11:15.501123Z",
     "shell.execute_reply": "2022-06-18T07:11:15.500071Z",
     "shell.execute_reply.started": "2022-06-18T07:11:15.497085Z"
    }
   },
   "outputs": [],
   "source": [
    "import warnings\n",
    "warnings.simplefilter(action=\"ignore\",category=FutureWarning)"
   ]
  },
  {
   "cell_type": "code",
   "execution_count": 3,
   "id": "ed33cdc0",
   "metadata": {
    "execution": {
     "iopub.execute_input": "2022-06-18T07:11:17.130121Z",
     "iopub.status.busy": "2022-06-18T07:11:17.129619Z",
     "iopub.status.idle": "2022-06-18T07:11:20.653446Z",
     "shell.execute_reply": "2022-06-18T07:11:20.652675Z",
     "shell.execute_reply.started": "2022-06-18T07:11:17.130095Z"
    }
   },
   "outputs": [],
   "source": [
    "import tensorflow as tf\n",
    "import numpy as np\n",
    "import matplotlib.pyplot as plt\n",
    "import pandas as pd\n",
    "from sklearn.model_selection import train_test_split\n",
    "from sklearn.preprocessing import StandardScaler\n",
    "from sklearn.metrics import accuracy_score\n"
   ]
  },
  {
   "cell_type": "code",
   "execution_count": 4,
   "id": "088077f5-37ea-4029-a040-ff95a57b9ce8",
   "metadata": {
    "execution": {
     "iopub.execute_input": "2022-06-18T07:11:20.655254Z",
     "iopub.status.busy": "2022-06-18T07:11:20.655067Z",
     "iopub.status.idle": "2022-06-18T07:11:20.846526Z",
     "shell.execute_reply": "2022-06-18T07:11:20.845829Z",
     "shell.execute_reply.started": "2022-06-18T07:11:20.655230Z"
    }
   },
   "outputs": [
    {
     "name": "stderr",
     "output_type": "stream",
     "text": [
      "2022-06-18 07:11:20.676693: I tensorflow/stream_executor/cuda/cuda_gpu_executor.cc:1052] successful NUMA node read from SysFS had negative value (-1), but there must be at least one NUMA node, so returning NUMA node zero\n",
      "2022-06-18 07:11:20.838410: I tensorflow/stream_executor/cuda/cuda_gpu_executor.cc:1052] successful NUMA node read from SysFS had negative value (-1), but there must be at least one NUMA node, so returning NUMA node zero\n",
      "2022-06-18 07:11:20.838900: I tensorflow/stream_executor/cuda/cuda_gpu_executor.cc:1052] successful NUMA node read from SysFS had negative value (-1), but there must be at least one NUMA node, so returning NUMA node zero\n"
     ]
    },
    {
     "data": {
      "text/plain": [
       "[PhysicalDevice(name='/physical_device:GPU:0', device_type='GPU')]"
      ]
     },
     "execution_count": 4,
     "metadata": {},
     "output_type": "execute_result"
    }
   ],
   "source": [
    "gpus = tf.config.list_physical_devices('GPU')\n",
    "gpus"
   ]
  },
  {
   "cell_type": "code",
   "execution_count": 5,
   "id": "59f1d01a-ef52-4575-b7a7-e63ec3e1e289",
   "metadata": {
    "execution": {
     "iopub.execute_input": "2022-06-18T07:12:04.790171Z",
     "iopub.status.busy": "2022-06-18T07:12:04.789878Z",
     "iopub.status.idle": "2022-06-18T07:12:05.531962Z",
     "shell.execute_reply": "2022-06-18T07:12:05.530894Z",
     "shell.execute_reply.started": "2022-06-18T07:12:04.790135Z"
    }
   },
   "outputs": [
    {
     "name": "stdout",
     "output_type": "stream",
     "text": [
      "1 Physical GPUs, 1 Logical GPUs\n"
     ]
    },
    {
     "name": "stderr",
     "output_type": "stream",
     "text": [
      "2022-06-18 07:12:04.793371: I tensorflow/stream_executor/cuda/cuda_gpu_executor.cc:1052] successful NUMA node read from SysFS had negative value (-1), but there must be at least one NUMA node, so returning NUMA node zero\n",
      "2022-06-18 07:12:04.793869: I tensorflow/stream_executor/cuda/cuda_gpu_executor.cc:1052] successful NUMA node read from SysFS had negative value (-1), but there must be at least one NUMA node, so returning NUMA node zero\n",
      "2022-06-18 07:12:04.794247: I tensorflow/stream_executor/cuda/cuda_gpu_executor.cc:1052] successful NUMA node read from SysFS had negative value (-1), but there must be at least one NUMA node, so returning NUMA node zero\n",
      "2022-06-18 07:12:05.523525: I tensorflow/stream_executor/cuda/cuda_gpu_executor.cc:1052] successful NUMA node read from SysFS had negative value (-1), but there must be at least one NUMA node, so returning NUMA node zero\n",
      "2022-06-18 07:12:05.523826: I tensorflow/stream_executor/cuda/cuda_gpu_executor.cc:1052] successful NUMA node read from SysFS had negative value (-1), but there must be at least one NUMA node, so returning NUMA node zero\n",
      "2022-06-18 07:12:05.524071: I tensorflow/stream_executor/cuda/cuda_gpu_executor.cc:1052] successful NUMA node read from SysFS had negative value (-1), but there must be at least one NUMA node, so returning NUMA node zero\n",
      "2022-06-18 07:12:05.524282: I tensorflow/core/common_runtime/gpu/gpu_device.cc:1525] Created device /job:localhost/replica:0/task:0/device:GPU:0 with 7275 MB memory:  -> device: 0, name: Quadro M4000, pci bus id: 0000:00:05.0, compute capability: 5.2\n"
     ]
    }
   ],
   "source": [
    "if gpus:\n",
    "    try:\n",
    "        for gpu in gpus:\n",
    "            tf.config.experimental.set_memory_growth(gpu, True)\n",
    "        logical_gpus = tf.config.list_logical_devices('GPU')\n",
    "        print(len(gpus), \"Physical GPUs,\", len(logical_gpus), \"Logical GPUs\")\n",
    "    except RuntimeError as e:\n",
    "        print(e)"
   ]
  },
  {
   "cell_type": "code",
   "execution_count": 6,
   "id": "644ed73b",
   "metadata": {
    "execution": {
     "iopub.execute_input": "2022-06-18T07:12:14.535301Z",
     "iopub.status.busy": "2022-06-18T07:12:14.534524Z",
     "iopub.status.idle": "2022-06-18T07:12:14.592215Z",
     "shell.execute_reply": "2022-06-18T07:12:14.591456Z",
     "shell.execute_reply.started": "2022-06-18T07:12:14.535272Z"
    }
   },
   "outputs": [],
   "source": [
    "dataset=pd.read_csv('Churn_Modelling.csv')\n",
    "X=dataset.iloc[:,3:13]\n",
    "Y=dataset.iloc[:,13]"
   ]
  },
  {
   "cell_type": "code",
   "execution_count": 5,
   "id": "2f53df11",
   "metadata": {
    "collapsed": true,
    "jupyter": {
     "outputs_hidden": true
    }
   },
   "outputs": [
    {
     "data": {
      "text/html": [
       "<div>\n",
       "<style scoped>\n",
       "    .dataframe tbody tr th:only-of-type {\n",
       "        vertical-align: middle;\n",
       "    }\n",
       "\n",
       "    .dataframe tbody tr th {\n",
       "        vertical-align: top;\n",
       "    }\n",
       "\n",
       "    .dataframe thead th {\n",
       "        text-align: right;\n",
       "    }\n",
       "</style>\n",
       "<table border=\"1\" class=\"dataframe\">\n",
       "  <thead>\n",
       "    <tr style=\"text-align: right;\">\n",
       "      <th></th>\n",
       "      <th>CreditScore</th>\n",
       "      <th>Geography</th>\n",
       "      <th>Gender</th>\n",
       "      <th>Age</th>\n",
       "      <th>Tenure</th>\n",
       "      <th>Balance</th>\n",
       "      <th>NumOfProducts</th>\n",
       "      <th>HasCrCard</th>\n",
       "      <th>IsActiveMember</th>\n",
       "      <th>EstimatedSalary</th>\n",
       "    </tr>\n",
       "  </thead>\n",
       "  <tbody>\n",
       "    <tr>\n",
       "      <th>0</th>\n",
       "      <td>619</td>\n",
       "      <td>France</td>\n",
       "      <td>Female</td>\n",
       "      <td>42</td>\n",
       "      <td>2</td>\n",
       "      <td>0.00</td>\n",
       "      <td>1</td>\n",
       "      <td>1</td>\n",
       "      <td>1</td>\n",
       "      <td>101348.88</td>\n",
       "    </tr>\n",
       "    <tr>\n",
       "      <th>1</th>\n",
       "      <td>608</td>\n",
       "      <td>Spain</td>\n",
       "      <td>Female</td>\n",
       "      <td>41</td>\n",
       "      <td>1</td>\n",
       "      <td>83807.86</td>\n",
       "      <td>1</td>\n",
       "      <td>0</td>\n",
       "      <td>1</td>\n",
       "      <td>112542.58</td>\n",
       "    </tr>\n",
       "    <tr>\n",
       "      <th>2</th>\n",
       "      <td>502</td>\n",
       "      <td>France</td>\n",
       "      <td>Female</td>\n",
       "      <td>42</td>\n",
       "      <td>8</td>\n",
       "      <td>159660.80</td>\n",
       "      <td>3</td>\n",
       "      <td>1</td>\n",
       "      <td>0</td>\n",
       "      <td>113931.57</td>\n",
       "    </tr>\n",
       "    <tr>\n",
       "      <th>3</th>\n",
       "      <td>699</td>\n",
       "      <td>France</td>\n",
       "      <td>Female</td>\n",
       "      <td>39</td>\n",
       "      <td>1</td>\n",
       "      <td>0.00</td>\n",
       "      <td>2</td>\n",
       "      <td>0</td>\n",
       "      <td>0</td>\n",
       "      <td>93826.63</td>\n",
       "    </tr>\n",
       "    <tr>\n",
       "      <th>4</th>\n",
       "      <td>850</td>\n",
       "      <td>Spain</td>\n",
       "      <td>Female</td>\n",
       "      <td>43</td>\n",
       "      <td>2</td>\n",
       "      <td>125510.82</td>\n",
       "      <td>1</td>\n",
       "      <td>1</td>\n",
       "      <td>1</td>\n",
       "      <td>79084.10</td>\n",
       "    </tr>\n",
       "  </tbody>\n",
       "</table>\n",
       "</div>"
      ],
      "text/plain": [
       "   CreditScore Geography  Gender  Age  Tenure    Balance  NumOfProducts  \\\n",
       "0          619    France  Female   42       2       0.00              1   \n",
       "1          608     Spain  Female   41       1   83807.86              1   \n",
       "2          502    France  Female   42       8  159660.80              3   \n",
       "3          699    France  Female   39       1       0.00              2   \n",
       "4          850     Spain  Female   43       2  125510.82              1   \n",
       "\n",
       "   HasCrCard  IsActiveMember  EstimatedSalary  \n",
       "0          1               1        101348.88  \n",
       "1          0               1        112542.58  \n",
       "2          1               0        113931.57  \n",
       "3          0               0         93826.63  \n",
       "4          1               1         79084.10  "
      ]
     },
     "execution_count": 5,
     "metadata": {},
     "output_type": "execute_result"
    }
   ],
   "source": [
    "X.head()"
   ]
  },
  {
   "cell_type": "code",
   "execution_count": 6,
   "id": "94974a8a",
   "metadata": {
    "collapsed": true,
    "jupyter": {
     "outputs_hidden": true
    }
   },
   "outputs": [
    {
     "data": {
      "text/plain": [
       "Index(['CreditScore', 'Geography', 'Gender', 'Age', 'Tenure', 'Balance',\n",
       "       'NumOfProducts', 'HasCrCard', 'IsActiveMember', 'EstimatedSalary'],\n",
       "      dtype='object')"
      ]
     },
     "execution_count": 6,
     "metadata": {},
     "output_type": "execute_result"
    }
   ],
   "source": [
    "X.columns"
   ]
  },
  {
   "cell_type": "code",
   "execution_count": 7,
   "id": "ba4878e3",
   "metadata": {
    "execution": {
     "iopub.execute_input": "2022-06-18T07:12:21.013421Z",
     "iopub.status.busy": "2022-06-18T07:12:21.012761Z",
     "iopub.status.idle": "2022-06-18T07:12:21.028372Z",
     "shell.execute_reply": "2022-06-18T07:12:21.027897Z",
     "shell.execute_reply.started": "2022-06-18T07:12:21.013393Z"
    }
   },
   "outputs": [
    {
     "data": {
      "text/html": [
       "<div>\n",
       "<style scoped>\n",
       "    .dataframe tbody tr th:only-of-type {\n",
       "        vertical-align: middle;\n",
       "    }\n",
       "\n",
       "    .dataframe tbody tr th {\n",
       "        vertical-align: top;\n",
       "    }\n",
       "\n",
       "    .dataframe thead th {\n",
       "        text-align: right;\n",
       "    }\n",
       "</style>\n",
       "<table border=\"1\" class=\"dataframe\">\n",
       "  <thead>\n",
       "    <tr style=\"text-align: right;\">\n",
       "      <th></th>\n",
       "      <th>CreditScore</th>\n",
       "      <th>Age</th>\n",
       "      <th>Tenure</th>\n",
       "      <th>Balance</th>\n",
       "      <th>NumOfProducts</th>\n",
       "      <th>HasCrCard</th>\n",
       "      <th>IsActiveMember</th>\n",
       "      <th>EstimatedSalary</th>\n",
       "    </tr>\n",
       "  </thead>\n",
       "  <tbody>\n",
       "    <tr>\n",
       "      <th>0</th>\n",
       "      <td>619</td>\n",
       "      <td>42</td>\n",
       "      <td>2</td>\n",
       "      <td>0.00</td>\n",
       "      <td>1</td>\n",
       "      <td>1</td>\n",
       "      <td>1</td>\n",
       "      <td>101348.88</td>\n",
       "    </tr>\n",
       "    <tr>\n",
       "      <th>1</th>\n",
       "      <td>608</td>\n",
       "      <td>41</td>\n",
       "      <td>1</td>\n",
       "      <td>83807.86</td>\n",
       "      <td>1</td>\n",
       "      <td>0</td>\n",
       "      <td>1</td>\n",
       "      <td>112542.58</td>\n",
       "    </tr>\n",
       "    <tr>\n",
       "      <th>2</th>\n",
       "      <td>502</td>\n",
       "      <td>42</td>\n",
       "      <td>8</td>\n",
       "      <td>159660.80</td>\n",
       "      <td>3</td>\n",
       "      <td>1</td>\n",
       "      <td>0</td>\n",
       "      <td>113931.57</td>\n",
       "    </tr>\n",
       "    <tr>\n",
       "      <th>3</th>\n",
       "      <td>699</td>\n",
       "      <td>39</td>\n",
       "      <td>1</td>\n",
       "      <td>0.00</td>\n",
       "      <td>2</td>\n",
       "      <td>0</td>\n",
       "      <td>0</td>\n",
       "      <td>93826.63</td>\n",
       "    </tr>\n",
       "    <tr>\n",
       "      <th>4</th>\n",
       "      <td>850</td>\n",
       "      <td>43</td>\n",
       "      <td>2</td>\n",
       "      <td>125510.82</td>\n",
       "      <td>1</td>\n",
       "      <td>1</td>\n",
       "      <td>1</td>\n",
       "      <td>79084.10</td>\n",
       "    </tr>\n",
       "  </tbody>\n",
       "</table>\n",
       "</div>"
      ],
      "text/plain": [
       "   CreditScore  Age  Tenure    Balance  NumOfProducts  HasCrCard  \\\n",
       "0          619   42       2       0.00              1          1   \n",
       "1          608   41       1   83807.86              1          0   \n",
       "2          502   42       8  159660.80              3          1   \n",
       "3          699   39       1       0.00              2          0   \n",
       "4          850   43       2  125510.82              1          1   \n",
       "\n",
       "   IsActiveMember  EstimatedSalary  \n",
       "0               1        101348.88  \n",
       "1               1        112542.58  \n",
       "2               0        113931.57  \n",
       "3               0         93826.63  \n",
       "4               1         79084.10  "
      ]
     },
     "execution_count": 7,
     "metadata": {},
     "output_type": "execute_result"
    }
   ],
   "source": [
    "X=X.drop(['Geography','Gender'],axis=1)\n",
    "X.head()"
   ]
  },
  {
   "cell_type": "code",
   "execution_count": 8,
   "id": "ea0dfd3d",
   "metadata": {
    "execution": {
     "iopub.execute_input": "2022-06-18T07:12:26.623027Z",
     "iopub.status.busy": "2022-06-18T07:12:26.622380Z",
     "iopub.status.idle": "2022-06-18T07:12:26.629019Z",
     "shell.execute_reply": "2022-06-18T07:12:26.628518Z",
     "shell.execute_reply.started": "2022-06-18T07:12:26.622999Z"
    }
   },
   "outputs": [],
   "source": [
    "xtrain,xtest,ytrain,ytest=train_test_split(X,Y,test_size=0.20,random_state=1)"
   ]
  },
  {
   "cell_type": "code",
   "execution_count": 9,
   "id": "3783cfd3",
   "metadata": {
    "execution": {
     "iopub.execute_input": "2022-06-18T07:12:29.339067Z",
     "iopub.status.busy": "2022-06-18T07:12:29.338437Z",
     "iopub.status.idle": "2022-06-18T07:12:29.349660Z",
     "shell.execute_reply": "2022-06-18T07:12:29.349194Z",
     "shell.execute_reply.started": "2022-06-18T07:12:29.339038Z"
    }
   },
   "outputs": [],
   "source": [
    "scaler=StandardScaler()\n",
    "xtrain=scaler.fit_transform(xtrain)\n",
    "xtest=scaler.transform(xtest)"
   ]
  },
  {
   "cell_type": "code",
   "execution_count": 10,
   "id": "26b0df02",
   "metadata": {
    "execution": {
     "iopub.execute_input": "2022-06-18T07:12:31.146202Z",
     "iopub.status.busy": "2022-06-18T07:12:31.145580Z",
     "iopub.status.idle": "2022-06-18T07:12:31.151276Z",
     "shell.execute_reply": "2022-06-18T07:12:31.150541Z",
     "shell.execute_reply.started": "2022-06-18T07:12:31.146175Z"
    }
   },
   "outputs": [],
   "source": [
    "import tensorflow.keras\n",
    "from tensorflow.keras.layers import Dense,Dropout\n",
    "from tensorflow.keras.models import Sequential\n"
   ]
  },
  {
   "cell_type": "code",
   "execution_count": 11,
   "id": "806c3c87",
   "metadata": {
    "execution": {
     "iopub.execute_input": "2022-06-18T07:12:38.507412Z",
     "iopub.status.busy": "2022-06-18T07:12:38.506809Z",
     "iopub.status.idle": "2022-06-18T07:16:00.977729Z",
     "shell.execute_reply": "2022-06-18T07:16:00.976996Z",
     "shell.execute_reply.started": "2022-06-18T07:12:38.507384Z"
    }
   },
   "outputs": [
    {
     "name": "stdout",
     "output_type": "stream",
     "text": [
      "Epoch 1/100\n",
      "536/536 [==============================] - 3s 4ms/step - loss: 0.4917 - accuracy: 0.7880 - val_loss: 0.4627 - val_accuracy: 0.8031\n",
      "Epoch 2/100\n",
      "536/536 [==============================] - 2s 3ms/step - loss: 0.4527 - accuracy: 0.8033 - val_loss: 0.4501 - val_accuracy: 0.7982\n",
      "Epoch 3/100\n",
      "536/536 [==============================] - 2s 3ms/step - loss: 0.4420 - accuracy: 0.8065 - val_loss: 0.4427 - val_accuracy: 0.8039\n",
      "Epoch 4/100\n",
      "536/536 [==============================] - 2s 3ms/step - loss: 0.4344 - accuracy: 0.8123 - val_loss: 0.4357 - val_accuracy: 0.8103\n",
      "Epoch 5/100\n",
      "536/536 [==============================] - 2s 4ms/step - loss: 0.4292 - accuracy: 0.8143 - val_loss: 0.4340 - val_accuracy: 0.8107\n",
      "Epoch 6/100\n",
      "536/536 [==============================] - 2s 4ms/step - loss: 0.4254 - accuracy: 0.8199 - val_loss: 0.4287 - val_accuracy: 0.8152\n",
      "Epoch 7/100\n",
      "536/536 [==============================] - 2s 4ms/step - loss: 0.4214 - accuracy: 0.8238 - val_loss: 0.4255 - val_accuracy: 0.8183\n",
      "Epoch 8/100\n",
      "536/536 [==============================] - 2s 3ms/step - loss: 0.4180 - accuracy: 0.8252 - val_loss: 0.4224 - val_accuracy: 0.8156\n",
      "Epoch 9/100\n",
      "536/536 [==============================] - 2s 4ms/step - loss: 0.4145 - accuracy: 0.8283 - val_loss: 0.4199 - val_accuracy: 0.8148\n",
      "Epoch 10/100\n",
      "536/536 [==============================] - 2s 4ms/step - loss: 0.4119 - accuracy: 0.8298 - val_loss: 0.4143 - val_accuracy: 0.8224\n",
      "Epoch 11/100\n",
      "536/536 [==============================] - 2s 3ms/step - loss: 0.4089 - accuracy: 0.8311 - val_loss: 0.4143 - val_accuracy: 0.8175\n",
      "Epoch 12/100\n",
      "536/536 [==============================] - 2s 4ms/step - loss: 0.4070 - accuracy: 0.8315 - val_loss: 0.4090 - val_accuracy: 0.8201\n",
      "Epoch 13/100\n",
      "536/536 [==============================] - 2s 3ms/step - loss: 0.4047 - accuracy: 0.8337 - val_loss: 0.4065 - val_accuracy: 0.8213\n",
      "Epoch 14/100\n",
      "536/536 [==============================] - 2s 4ms/step - loss: 0.4027 - accuracy: 0.8306 - val_loss: 0.4065 - val_accuracy: 0.8201\n",
      "Epoch 15/100\n",
      "536/536 [==============================] - 2s 4ms/step - loss: 0.4010 - accuracy: 0.8309 - val_loss: 0.4026 - val_accuracy: 0.8209\n",
      "Epoch 16/100\n",
      "536/536 [==============================] - 2s 4ms/step - loss: 0.3991 - accuracy: 0.8313 - val_loss: 0.3980 - val_accuracy: 0.8232\n",
      "Epoch 17/100\n",
      "536/536 [==============================] - 2s 4ms/step - loss: 0.3971 - accuracy: 0.8311 - val_loss: 0.3976 - val_accuracy: 0.8232\n",
      "Epoch 18/100\n",
      "536/536 [==============================] - 2s 3ms/step - loss: 0.3958 - accuracy: 0.8306 - val_loss: 0.3957 - val_accuracy: 0.8232\n",
      "Epoch 19/100\n",
      "536/536 [==============================] - 2s 3ms/step - loss: 0.3934 - accuracy: 0.8328 - val_loss: 0.3949 - val_accuracy: 0.8247\n",
      "Epoch 20/100\n",
      "536/536 [==============================] - 2s 3ms/step - loss: 0.3917 - accuracy: 0.8345 - val_loss: 0.3912 - val_accuracy: 0.8239\n",
      "Epoch 21/100\n",
      "536/536 [==============================] - 2s 3ms/step - loss: 0.3892 - accuracy: 0.8349 - val_loss: 0.3914 - val_accuracy: 0.8243\n",
      "Epoch 22/100\n",
      "536/536 [==============================] - 2s 4ms/step - loss: 0.3875 - accuracy: 0.8384 - val_loss: 0.3884 - val_accuracy: 0.8258\n",
      "Epoch 23/100\n",
      "536/536 [==============================] - 2s 3ms/step - loss: 0.3855 - accuracy: 0.8391 - val_loss: 0.3854 - val_accuracy: 0.8292\n",
      "Epoch 24/100\n",
      "536/536 [==============================] - 2s 3ms/step - loss: 0.3834 - accuracy: 0.8371 - val_loss: 0.3853 - val_accuracy: 0.8270\n",
      "Epoch 25/100\n",
      "536/536 [==============================] - 2s 3ms/step - loss: 0.3815 - accuracy: 0.8403 - val_loss: 0.3849 - val_accuracy: 0.8296\n",
      "Epoch 26/100\n",
      "536/536 [==============================] - 2s 4ms/step - loss: 0.3802 - accuracy: 0.8414 - val_loss: 0.3808 - val_accuracy: 0.8353\n",
      "Epoch 27/100\n",
      "536/536 [==============================] - 2s 4ms/step - loss: 0.3786 - accuracy: 0.8433 - val_loss: 0.3787 - val_accuracy: 0.8342\n",
      "Epoch 28/100\n",
      "536/536 [==============================] - 2s 4ms/step - loss: 0.3772 - accuracy: 0.8425 - val_loss: 0.3764 - val_accuracy: 0.8379\n",
      "Epoch 29/100\n",
      "536/536 [==============================] - 2s 3ms/step - loss: 0.3753 - accuracy: 0.8451 - val_loss: 0.3767 - val_accuracy: 0.8364\n",
      "Epoch 30/100\n",
      "536/536 [==============================] - 2s 4ms/step - loss: 0.3736 - accuracy: 0.8479 - val_loss: 0.3761 - val_accuracy: 0.8376\n",
      "Epoch 31/100\n",
      "536/536 [==============================] - 2s 3ms/step - loss: 0.3726 - accuracy: 0.8470 - val_loss: 0.3745 - val_accuracy: 0.8406\n",
      "Epoch 32/100\n",
      "536/536 [==============================] - 2s 3ms/step - loss: 0.3715 - accuracy: 0.8483 - val_loss: 0.3712 - val_accuracy: 0.8398\n",
      "Epoch 33/100\n",
      "536/536 [==============================] - 2s 3ms/step - loss: 0.3700 - accuracy: 0.8494 - val_loss: 0.3713 - val_accuracy: 0.8440\n",
      "Epoch 34/100\n",
      "536/536 [==============================] - 2s 3ms/step - loss: 0.3690 - accuracy: 0.8517 - val_loss: 0.3710 - val_accuracy: 0.8429\n",
      "Epoch 35/100\n",
      "536/536 [==============================] - 2s 3ms/step - loss: 0.3676 - accuracy: 0.8494 - val_loss: 0.3710 - val_accuracy: 0.8451\n",
      "Epoch 36/100\n",
      "536/536 [==============================] - 2s 4ms/step - loss: 0.3667 - accuracy: 0.8518 - val_loss: 0.3653 - val_accuracy: 0.8466\n",
      "Epoch 37/100\n",
      "536/536 [==============================] - 2s 3ms/step - loss: 0.3658 - accuracy: 0.8515 - val_loss: 0.3663 - val_accuracy: 0.8485\n",
      "Epoch 38/100\n",
      "536/536 [==============================] - 2s 4ms/step - loss: 0.3652 - accuracy: 0.8515 - val_loss: 0.3667 - val_accuracy: 0.8444\n",
      "Epoch 39/100\n",
      "536/536 [==============================] - 2s 3ms/step - loss: 0.3643 - accuracy: 0.8526 - val_loss: 0.3667 - val_accuracy: 0.8478\n",
      "Epoch 40/100\n",
      "536/536 [==============================] - 2s 3ms/step - loss: 0.3640 - accuracy: 0.8526 - val_loss: 0.3644 - val_accuracy: 0.8463\n",
      "Epoch 41/100\n",
      "536/536 [==============================] - 2s 3ms/step - loss: 0.3625 - accuracy: 0.8539 - val_loss: 0.3634 - val_accuracy: 0.8455\n",
      "Epoch 42/100\n",
      "536/536 [==============================] - 2s 3ms/step - loss: 0.3625 - accuracy: 0.8571 - val_loss: 0.3646 - val_accuracy: 0.8482\n",
      "Epoch 43/100\n",
      "536/536 [==============================] - 2s 3ms/step - loss: 0.3623 - accuracy: 0.8541 - val_loss: 0.3638 - val_accuracy: 0.8485\n",
      "Epoch 44/100\n",
      "536/536 [==============================] - 2s 4ms/step - loss: 0.3617 - accuracy: 0.8522 - val_loss: 0.3646 - val_accuracy: 0.8497\n",
      "Epoch 45/100\n",
      "536/536 [==============================] - 2s 3ms/step - loss: 0.3606 - accuracy: 0.8526 - val_loss: 0.3636 - val_accuracy: 0.8508\n",
      "Epoch 46/100\n",
      "536/536 [==============================] - 2s 4ms/step - loss: 0.3601 - accuracy: 0.8543 - val_loss: 0.3640 - val_accuracy: 0.8501\n",
      "Epoch 47/100\n",
      "536/536 [==============================] - 2s 3ms/step - loss: 0.3607 - accuracy: 0.8539 - val_loss: 0.3613 - val_accuracy: 0.8482\n",
      "Epoch 48/100\n",
      "536/536 [==============================] - 2s 3ms/step - loss: 0.3602 - accuracy: 0.8539 - val_loss: 0.3628 - val_accuracy: 0.8497\n",
      "Epoch 49/100\n",
      "536/536 [==============================] - 2s 3ms/step - loss: 0.3600 - accuracy: 0.8545 - val_loss: 0.3599 - val_accuracy: 0.8497\n",
      "Epoch 50/100\n",
      "536/536 [==============================] - 2s 4ms/step - loss: 0.3588 - accuracy: 0.8543 - val_loss: 0.3614 - val_accuracy: 0.8523\n",
      "Epoch 51/100\n",
      "536/536 [==============================] - 2s 3ms/step - loss: 0.3589 - accuracy: 0.8541 - val_loss: 0.3604 - val_accuracy: 0.8474\n",
      "Epoch 52/100\n",
      "536/536 [==============================] - 2s 4ms/step - loss: 0.3582 - accuracy: 0.8552 - val_loss: 0.3614 - val_accuracy: 0.8497\n",
      "Epoch 53/100\n",
      "536/536 [==============================] - 2s 3ms/step - loss: 0.3587 - accuracy: 0.8556 - val_loss: 0.3608 - val_accuracy: 0.8489\n",
      "Epoch 54/100\n",
      "536/536 [==============================] - 2s 3ms/step - loss: 0.3581 - accuracy: 0.8531 - val_loss: 0.3595 - val_accuracy: 0.8531\n",
      "Epoch 55/100\n",
      "536/536 [==============================] - 2s 3ms/step - loss: 0.3571 - accuracy: 0.8552 - val_loss: 0.3596 - val_accuracy: 0.8527\n",
      "Epoch 56/100\n",
      "536/536 [==============================] - 2s 4ms/step - loss: 0.3567 - accuracy: 0.8571 - val_loss: 0.3616 - val_accuracy: 0.8504\n",
      "Epoch 57/100\n",
      "536/536 [==============================] - 2s 3ms/step - loss: 0.3582 - accuracy: 0.8541 - val_loss: 0.3610 - val_accuracy: 0.8497\n",
      "Epoch 58/100\n",
      "536/536 [==============================] - 2s 4ms/step - loss: 0.3569 - accuracy: 0.8533 - val_loss: 0.3648 - val_accuracy: 0.8444\n",
      "Epoch 59/100\n",
      "536/536 [==============================] - 2s 3ms/step - loss: 0.3566 - accuracy: 0.8567 - val_loss: 0.3578 - val_accuracy: 0.8501\n",
      "Epoch 60/100\n",
      "536/536 [==============================] - 2s 3ms/step - loss: 0.3564 - accuracy: 0.8545 - val_loss: 0.3581 - val_accuracy: 0.8508\n",
      "Epoch 61/100\n",
      "536/536 [==============================] - 2s 3ms/step - loss: 0.3559 - accuracy: 0.8556 - val_loss: 0.3582 - val_accuracy: 0.8504\n",
      "Epoch 62/100\n",
      "536/536 [==============================] - 2s 4ms/step - loss: 0.3565 - accuracy: 0.8554 - val_loss: 0.3576 - val_accuracy: 0.8497\n",
      "Epoch 63/100\n",
      "536/536 [==============================] - 2s 4ms/step - loss: 0.3548 - accuracy: 0.8567 - val_loss: 0.3614 - val_accuracy: 0.8478\n",
      "Epoch 64/100\n",
      "536/536 [==============================] - 2s 4ms/step - loss: 0.3547 - accuracy: 0.8565 - val_loss: 0.3602 - val_accuracy: 0.8504\n",
      "Epoch 65/100\n",
      "536/536 [==============================] - 2s 3ms/step - loss: 0.3552 - accuracy: 0.8563 - val_loss: 0.3563 - val_accuracy: 0.8497\n",
      "Epoch 66/100\n",
      "536/536 [==============================] - 2s 3ms/step - loss: 0.3548 - accuracy: 0.8531 - val_loss: 0.3585 - val_accuracy: 0.8493\n",
      "Epoch 67/100\n",
      "536/536 [==============================] - 2s 3ms/step - loss: 0.3544 - accuracy: 0.8565 - val_loss: 0.3603 - val_accuracy: 0.8519\n",
      "Epoch 68/100\n",
      "536/536 [==============================] - 2s 3ms/step - loss: 0.3549 - accuracy: 0.8545 - val_loss: 0.3617 - val_accuracy: 0.8501\n",
      "Epoch 69/100\n",
      "536/536 [==============================] - 2s 4ms/step - loss: 0.3537 - accuracy: 0.8589 - val_loss: 0.3579 - val_accuracy: 0.8497\n",
      "Epoch 70/100\n",
      "536/536 [==============================] - 2s 3ms/step - loss: 0.3545 - accuracy: 0.8558 - val_loss: 0.3570 - val_accuracy: 0.8501\n",
      "Epoch 71/100\n",
      "536/536 [==============================] - 2s 3ms/step - loss: 0.3536 - accuracy: 0.8563 - val_loss: 0.3566 - val_accuracy: 0.8519\n",
      "Epoch 72/100\n",
      "536/536 [==============================] - 2s 3ms/step - loss: 0.3540 - accuracy: 0.8550 - val_loss: 0.3553 - val_accuracy: 0.8485\n",
      "Epoch 73/100\n",
      "536/536 [==============================] - 2s 3ms/step - loss: 0.3535 - accuracy: 0.8561 - val_loss: 0.3554 - val_accuracy: 0.8504\n",
      "Epoch 74/100\n",
      "536/536 [==============================] - 2s 3ms/step - loss: 0.3540 - accuracy: 0.8558 - val_loss: 0.3584 - val_accuracy: 0.8493\n",
      "Epoch 75/100\n",
      "536/536 [==============================] - 2s 3ms/step - loss: 0.3537 - accuracy: 0.8537 - val_loss: 0.3606 - val_accuracy: 0.8516\n",
      "Epoch 76/100\n",
      "536/536 [==============================] - 2s 4ms/step - loss: 0.3534 - accuracy: 0.8578 - val_loss: 0.3578 - val_accuracy: 0.8485\n",
      "Epoch 77/100\n",
      "536/536 [==============================] - 2s 3ms/step - loss: 0.3536 - accuracy: 0.8574 - val_loss: 0.3558 - val_accuracy: 0.8516\n",
      "Epoch 78/100\n",
      "536/536 [==============================] - 2s 3ms/step - loss: 0.3532 - accuracy: 0.8558 - val_loss: 0.3582 - val_accuracy: 0.8466\n",
      "Epoch 79/100\n",
      "536/536 [==============================] - 2s 3ms/step - loss: 0.3517 - accuracy: 0.8563 - val_loss: 0.3537 - val_accuracy: 0.8512\n",
      "Epoch 80/100\n",
      "536/536 [==============================] - 2s 3ms/step - loss: 0.3530 - accuracy: 0.8595 - val_loss: 0.3543 - val_accuracy: 0.8508\n",
      "Epoch 81/100\n",
      "536/536 [==============================] - 2s 3ms/step - loss: 0.3525 - accuracy: 0.8546 - val_loss: 0.3564 - val_accuracy: 0.8501\n",
      "Epoch 82/100\n",
      "536/536 [==============================] - 2s 3ms/step - loss: 0.3523 - accuracy: 0.8550 - val_loss: 0.3578 - val_accuracy: 0.8485\n",
      "Epoch 83/100\n",
      "536/536 [==============================] - 2s 3ms/step - loss: 0.3529 - accuracy: 0.8565 - val_loss: 0.3561 - val_accuracy: 0.8474\n",
      "Epoch 84/100\n",
      "536/536 [==============================] - 2s 3ms/step - loss: 0.3524 - accuracy: 0.8559 - val_loss: 0.3584 - val_accuracy: 0.8546\n",
      "Epoch 85/100\n",
      "536/536 [==============================] - 2s 3ms/step - loss: 0.3518 - accuracy: 0.8584 - val_loss: 0.3539 - val_accuracy: 0.8504\n",
      "Epoch 86/100\n",
      "536/536 [==============================] - 2s 3ms/step - loss: 0.3515 - accuracy: 0.8556 - val_loss: 0.3563 - val_accuracy: 0.8535\n",
      "Epoch 87/100\n",
      "536/536 [==============================] - 2s 3ms/step - loss: 0.3523 - accuracy: 0.8563 - val_loss: 0.3554 - val_accuracy: 0.8538\n",
      "Epoch 88/100\n",
      "536/536 [==============================] - 2s 3ms/step - loss: 0.3515 - accuracy: 0.8582 - val_loss: 0.3554 - val_accuracy: 0.8501\n",
      "Epoch 89/100\n",
      "536/536 [==============================] - 2s 3ms/step - loss: 0.3524 - accuracy: 0.8565 - val_loss: 0.3554 - val_accuracy: 0.8523\n",
      "Epoch 90/100\n",
      "536/536 [==============================] - 2s 3ms/step - loss: 0.3507 - accuracy: 0.8593 - val_loss: 0.3552 - val_accuracy: 0.8554\n",
      "Epoch 91/100\n",
      "536/536 [==============================] - 2s 3ms/step - loss: 0.3511 - accuracy: 0.8578 - val_loss: 0.3539 - val_accuracy: 0.8531\n",
      "Epoch 92/100\n",
      "536/536 [==============================] - 2s 3ms/step - loss: 0.3512 - accuracy: 0.8563 - val_loss: 0.3586 - val_accuracy: 0.8516\n",
      "Epoch 93/100\n",
      "536/536 [==============================] - 2s 4ms/step - loss: 0.3519 - accuracy: 0.8571 - val_loss: 0.3579 - val_accuracy: 0.8523\n",
      "Epoch 94/100\n",
      "536/536 [==============================] - 2s 3ms/step - loss: 0.3512 - accuracy: 0.8587 - val_loss: 0.3534 - val_accuracy: 0.8516\n",
      "Epoch 95/100\n",
      "536/536 [==============================] - 2s 3ms/step - loss: 0.3521 - accuracy: 0.8582 - val_loss: 0.3531 - val_accuracy: 0.8535\n",
      "Epoch 96/100\n",
      "536/536 [==============================] - 2s 3ms/step - loss: 0.3508 - accuracy: 0.8567 - val_loss: 0.3540 - val_accuracy: 0.8508\n",
      "Epoch 97/100\n",
      "536/536 [==============================] - 2s 3ms/step - loss: 0.3516 - accuracy: 0.8545 - val_loss: 0.3597 - val_accuracy: 0.8554\n",
      "Epoch 98/100\n",
      "536/536 [==============================] - 2s 3ms/step - loss: 0.3515 - accuracy: 0.8580 - val_loss: 0.3545 - val_accuracy: 0.8519\n",
      "Epoch 99/100\n",
      "536/536 [==============================] - 2s 3ms/step - loss: 0.3503 - accuracy: 0.8599 - val_loss: 0.3524 - val_accuracy: 0.8538\n",
      "Epoch 100/100\n",
      "536/536 [==============================] - 2s 3ms/step - loss: 0.3507 - accuracy: 0.8556 - val_loss: 0.3561 - val_accuracy: 0.8523\n",
      "CPU times: user 4min 21s, sys: 32.1 s, total: 4min 54s\n",
      "Wall time: 3min 22s\n"
     ]
    }
   ],
   "source": [
    "%%time\n",
    "Classifier=Sequential()\n",
    "Classifier.add(Dense(units=6,activation='relu',kernel_initializer='he_uniform',input_shape=(8,)))\n",
    "Classifier.add(Dense(units=6,activation='relu',kernel_initializer='he_uniform'))\n",
    "Classifier.add(Dense(units=1,activation='sigmoid',kernel_initializer='glorot_uniform'))\n",
    "Classifier.compile(optimizer='adam',loss='binary_crossentropy',metrics=['accuracy'])\n",
    "\n",
    "model_history=Classifier.fit(xtrain,ytrain,batch_size=10,epochs=100,validation_split=0.33)\n"
   ]
  },
  {
   "cell_type": "code",
   "execution_count": 12,
   "id": "ea85c902",
   "metadata": {
    "execution": {
     "iopub.execute_input": "2022-06-18T07:24:46.548955Z",
     "iopub.status.busy": "2022-06-18T07:24:46.548695Z",
     "iopub.status.idle": "2022-06-18T07:24:46.553358Z",
     "shell.execute_reply": "2022-06-18T07:24:46.552575Z",
     "shell.execute_reply.started": "2022-06-18T07:24:46.548928Z"
    }
   },
   "outputs": [
    {
     "name": "stdout",
     "output_type": "stream",
     "text": [
      "dict_keys(['loss', 'accuracy', 'val_loss', 'val_accuracy'])\n"
     ]
    }
   ],
   "source": [
    "print(model_history.history.keys())"
   ]
  },
  {
   "cell_type": "code",
   "execution_count": 14,
   "id": "c1365d72",
   "metadata": {
    "execution": {
     "iopub.execute_input": "2022-06-18T07:25:36.150590Z",
     "iopub.status.busy": "2022-06-18T07:25:36.149899Z",
     "iopub.status.idle": "2022-06-18T07:25:36.365912Z",
     "shell.execute_reply": "2022-06-18T07:25:36.365172Z",
     "shell.execute_reply.started": "2022-06-18T07:25:36.150549Z"
    }
   },
   "outputs": [
    {
     "data": {
      "image/png": "[encoded data removed]",
      "text/plain": [
       "<Figure size 432x288 with 1 Axes>"
      ]
     },
     "metadata": {
      "needs_background": "light"
     },
     "output_type": "display_data"
    }
   ],
   "source": [
    "plt.plot(model_history.history['accuracy'])\n",
    "plt.plot(model_history.history['val_accuracy'])\n",
    "plt.title('Model Accuracy')\n",
    "plt.ylabel('accuracy')\n",
    "plt.xlabel('epoch')\n",
    "plt.legend(['test','train'],loc='upper left')\n",
    "plt.show()"
   ]
  },
  {
   "cell_type": "code",
   "execution_count": 15,
   "id": "ec09eb34",
   "metadata": {
    "execution": {
     "iopub.execute_input": "2022-06-18T07:25:58.782939Z",
     "iopub.status.busy": "2022-06-18T07:25:58.782359Z",
     "iopub.status.idle": "2022-06-18T07:25:58.902098Z",
     "shell.execute_reply": "2022-06-18T07:25:58.901586Z",
     "shell.execute_reply.started": "2022-06-18T07:25:58.782912Z"
    }
   },
   "outputs": [
    {
     "data": {
      "image/png": "[encoded data removed]",
      "text/plain": [
       "<Figure size 432x288 with 1 Axes>"
      ]
     },
     "metadata": {
      "needs_background": "light"
     },
     "output_type": "display_data"
    }
   ],
   "source": [
    "plt.plot(model_history.history['loss'])\n",
    "plt.plot(model_history.history['val_loss'])\n",
    "plt.title('model loss')\n",
    "plt.ylabel('loss')\n",
    "plt.xlabel('epoch')\n",
    "plt.show()"
   ]
  },
  {
   "cell_type": "code",
   "execution_count": 16,
   "id": "57862a87",
   "metadata": {
    "execution": {
     "iopub.execute_input": "2022-06-18T07:26:11.454308Z",
     "iopub.status.busy": "2022-06-18T07:26:11.453673Z",
     "iopub.status.idle": "2022-06-18T07:26:11.629300Z",
     "shell.execute_reply": "2022-06-18T07:26:11.628715Z",
     "shell.execute_reply.started": "2022-06-18T07:26:11.454269Z"
    }
   },
   "outputs": [],
   "source": [
    "ypred=Classifier.predict(xtest)\n",
    "ypred=ypred>0.5"
   ]
  },
  {
   "cell_type": "code",
   "execution_count": 17,
   "id": "4310bea1",
   "metadata": {
    "execution": {
     "iopub.execute_input": "2022-06-18T07:26:14.503897Z",
     "iopub.status.busy": "2022-06-18T07:26:14.503424Z",
     "iopub.status.idle": "2022-06-18T07:26:14.508427Z",
     "shell.execute_reply": "2022-06-18T07:26:14.507795Z",
     "shell.execute_reply.started": "2022-06-18T07:26:14.503870Z"
    }
   },
   "outputs": [
    {
     "name": "stdout",
     "output_type": "stream",
     "text": [
      "85.0\n"
     ]
    }
   ],
   "source": [
    "accuracy=accuracy_score(ytest,ypred)*100\n",
    "print(accuracy)"
   ]
  },
  {
   "cell_type": "code",
   "execution_count": null,
   "id": "eca507a9",
   "metadata": {},
   "outputs": [],
   "source": []
  }
 ],
 "metadata": {
  "kernelspec": {
   "display_name": "Python 3 (ipykernel)",
   "language": "python",
   "name": "python3"
  },
  "language_info": {
   "codemirror_mode": {
    "name": "ipython",
    "version": 3
   },
   "file_extension": ".py",
   "mimetype": "text/x-python",
   "name": "python",
   "nbconvert_exporter": "python",
   "pygments_lexer": "ipython3",
   "version": "3.8.10"
  }
 },
 "nbformat": 4,
 "nbformat_minor": 5
}
