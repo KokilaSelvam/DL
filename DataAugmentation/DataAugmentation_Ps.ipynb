{
 "cells": [
  {
   "cell_type": "code",
   "execution_count": 2,
   "id": "9f10abd7",
   "metadata": {
    "execution": {
     "iopub.execute_input": "2022-06-20T07:24:27.119539Z",
     "iopub.status.busy": "2022-06-20T07:24:27.119229Z",
     "iopub.status.idle": "2022-06-20T07:24:29.436011Z",
     "shell.execute_reply": "2022-06-20T07:24:29.435074Z",
     "shell.execute_reply.started": "2022-06-20T07:24:27.119512Z"
    }
   },
   "outputs": [],
   "source": [
    "import tensorflow\n",
    "from tensorflow.keras.models import Sequential\n",
    "from tensorflow.keras.layers import Conv2D,MaxPooling2D,Flatten,Dropout,Dense"
   ]
  },
  {
   "cell_type": "code",
   "execution_count": 3,
   "id": "94b8da86",
   "metadata": {
    "execution": {
     "iopub.execute_input": "2022-06-20T07:24:30.880186Z",
     "iopub.status.busy": "2022-06-20T07:24:30.879939Z",
     "iopub.status.idle": "2022-06-20T07:24:30.886037Z",
     "shell.execute_reply": "2022-06-20T07:24:30.885183Z",
     "shell.execute_reply.started": "2022-06-20T07:24:30.880162Z"
    }
   },
   "outputs": [],
   "source": [
    "from tensorflow.keras.preprocessing.image import ImageDataGenerator,load_img,save_img,array_to_img,img_to_array"
   ]
  },
  {
   "cell_type": "code",
   "execution_count": 4,
   "id": "a39cda9a-d8e7-48fc-a00d-7330a1f005c9",
   "metadata": {
    "execution": {
     "iopub.execute_input": "2022-06-20T07:24:32.894777Z",
     "iopub.status.busy": "2022-06-20T07:24:32.894491Z",
     "iopub.status.idle": "2022-06-20T07:24:32.997341Z",
     "shell.execute_reply": "2022-06-20T07:24:32.996471Z",
     "shell.execute_reply.started": "2022-06-20T07:24:32.894740Z"
    }
   },
   "outputs": [
    {
     "name": "stderr",
     "output_type": "stream",
     "text": [
      "2022-06-20 07:24:32.933165: I tensorflow/stream_executor/cuda/cuda_gpu_executor.cc:1052] successful NUMA node read from SysFS had negative value (-1), but there must be at least one NUMA node, so returning NUMA node zero\n",
      "2022-06-20 07:24:32.982830: I tensorflow/stream_executor/cuda/cuda_gpu_executor.cc:1052] successful NUMA node read from SysFS had negative value (-1), but there must be at least one NUMA node, so returning NUMA node zero\n",
      "2022-06-20 07:24:32.983304: I tensorflow/stream_executor/cuda/cuda_gpu_executor.cc:1052] successful NUMA node read from SysFS had negative value (-1), but there must be at least one NUMA node, so returning NUMA node zero\n"
     ]
    },
    {
     "data": {
      "text/plain": [
       "[PhysicalDevice(name='/physical_device:GPU:0', device_type='GPU')]"
      ]
     },
     "execution_count": 4,
     "metadata": {},
     "output_type": "execute_result"
    }
   ],
   "source": [
    "gpus = tensorflow.config.list_physical_devices('GPU')\n",
    "gpus"
   ]
  },
  {
   "cell_type": "code",
   "execution_count": 5,
   "id": "c35658a0-6de7-41a4-93c0-813efdac35d4",
   "metadata": {
    "execution": {
     "iopub.execute_input": "2022-06-20T07:24:39.851063Z",
     "iopub.status.busy": "2022-06-20T07:24:39.850374Z",
     "iopub.status.idle": "2022-06-20T07:24:40.643582Z",
     "shell.execute_reply": "2022-06-20T07:24:40.642466Z",
     "shell.execute_reply.started": "2022-06-20T07:24:39.851035Z"
    }
   },
   "outputs": [
    {
     "name": "stdout",
     "output_type": "stream",
     "text": [
      "1 Physical GPUs, 1 Logical GPUs\n"
     ]
    },
    {
     "name": "stderr",
     "output_type": "stream",
     "text": [
      "2022-06-20 07:24:39.854247: I tensorflow/stream_executor/cuda/cuda_gpu_executor.cc:1052] successful NUMA node read from SysFS had negative value (-1), but there must be at least one NUMA node, so returning NUMA node zero\n",
      "2022-06-20 07:24:39.854881: I tensorflow/stream_executor/cuda/cuda_gpu_executor.cc:1052] successful NUMA node read from SysFS had negative value (-1), but there must be at least one NUMA node, so returning NUMA node zero\n",
      "2022-06-20 07:24:39.855831: I tensorflow/stream_executor/cuda/cuda_gpu_executor.cc:1052] successful NUMA node read from SysFS had negative value (-1), but there must be at least one NUMA node, so returning NUMA node zero\n",
      "2022-06-20 07:24:40.633997: I tensorflow/stream_executor/cuda/cuda_gpu_executor.cc:1052] successful NUMA node read from SysFS had negative value (-1), but there must be at least one NUMA node, so returning NUMA node zero\n",
      "2022-06-20 07:24:40.634300: I tensorflow/stream_executor/cuda/cuda_gpu_executor.cc:1052] successful NUMA node read from SysFS had negative value (-1), but there must be at least one NUMA node, so returning NUMA node zero\n",
      "2022-06-20 07:24:40.634543: I tensorflow/stream_executor/cuda/cuda_gpu_executor.cc:1052] successful NUMA node read from SysFS had negative value (-1), but there must be at least one NUMA node, so returning NUMA node zero\n",
      "2022-06-20 07:24:40.634745: I tensorflow/core/common_runtime/gpu/gpu_device.cc:1525] Created device /job:localhost/replica:0/task:0/device:GPU:0 with 7276 MB memory:  -> device: 0, name: Quadro M4000, pci bus id: 0000:00:05.0, compute capability: 5.2\n"
     ]
    }
   ],
   "source": [
    "if gpus:\n",
    "    try:\n",
    "        for gpu in gpus:\n",
    "            tensorflow.config.experimental.set_memory_growth(gpu, True)\n",
    "        logical_gpus = tensorflow.config.list_logical_devices('GPU')\n",
    "        print(len(gpus), \"Physical GPUs,\", len(logical_gpus), \"Logical GPUs\")\n",
    "    except RuntimeError as e:\n",
    "        print(e)"
   ]
  },
  {
   "cell_type": "code",
   "execution_count": 6,
   "id": "98ce337f",
   "metadata": {
    "execution": {
     "iopub.execute_input": "2022-06-20T07:24:47.296338Z",
     "iopub.status.busy": "2022-06-20T07:24:47.296082Z",
     "iopub.status.idle": "2022-06-20T07:24:47.385365Z",
     "shell.execute_reply": "2022-06-20T07:24:47.384579Z",
     "shell.execute_reply.started": "2022-06-20T07:24:47.296313Z"
    }
   },
   "outputs": [],
   "source": [
    "model=Sequential()\n",
    "model.add(Conv2D(filters=32,kernel_size=(3,3),input_shape=(156,150,3),activation='relu'))\n",
    "model.add(MaxPooling2D(pool_size=(2,2)))\n",
    "model.add(Conv2D(filters=32,kernel_size=(3,3),activation='relu'))\n",
    "model.add(MaxPooling2D(pool_size=(2,2)))\n",
    "model.add(Conv2D(filters=64,kernel_size=(3,3),activation='relu'))\n",
    "model.add(MaxPooling2D(pool_size=(2,2)))\n",
    "model.add(Flatten())\n",
    "model.add(Dense(64,activation='relu'))\n",
    "model.add(Dropout(0.5))\n",
    "model.add(Dense(1,activation='sigmoid'))\n",
    "\n",
    "model.compile(loss='binary_crossentropy',optimizer='rmsprop',metrics=['accuracy'])"
   ]
  },
  {
   "cell_type": "code",
   "execution_count": 7,
   "id": "9a1b9a1f",
   "metadata": {
    "execution": {
     "iopub.execute_input": "2022-06-20T07:24:52.363320Z",
     "iopub.status.busy": "2022-06-20T07:24:52.363037Z",
     "iopub.status.idle": "2022-06-20T07:24:52.367328Z",
     "shell.execute_reply": "2022-06-20T07:24:52.366541Z",
     "shell.execute_reply.started": "2022-06-20T07:24:52.363272Z"
    }
   },
   "outputs": [],
   "source": [
    "batch_size=16"
   ]
  },
  {
   "cell_type": "code",
   "execution_count": 8,
   "id": "e4c7e3f7",
   "metadata": {
    "execution": {
     "iopub.execute_input": "2022-06-20T07:24:54.443620Z",
     "iopub.status.busy": "2022-06-20T07:24:54.443250Z",
     "iopub.status.idle": "2022-06-20T07:24:54.448861Z",
     "shell.execute_reply": "2022-06-20T07:24:54.447471Z",
     "shell.execute_reply.started": "2022-06-20T07:24:54.443575Z"
    }
   },
   "outputs": [],
   "source": [
    "train_datagen=ImageDataGenerator(\n",
    "                rescale=1./255,\n",
    "                shear_range=0.2,\n",
    "                zoom_range=0.2,\n",
    "                horizontal_flip=True)\n",
    "test_datagen=ImageDataGenerator(rescale=1./255)"
   ]
  },
  {
   "cell_type": "code",
   "execution_count": 13,
   "id": "50f8b78b",
   "metadata": {
    "execution": {
     "iopub.execute_input": "2022-06-20T07:28:27.880205Z",
     "iopub.status.busy": "2022-06-20T07:28:27.879929Z",
     "iopub.status.idle": "2022-06-20T07:28:27.897116Z",
     "shell.execute_reply": "2022-06-20T07:28:27.896485Z",
     "shell.execute_reply.started": "2022-06-20T07:28:27.880171Z"
    }
   },
   "outputs": [
    {
     "name": "stdout",
     "output_type": "stream",
     "text": [
      "Found 180 images belonging to 1 classes.\n"
     ]
    }
   ],
   "source": [
    "train_generator=train_datagen.flow_from_directory('data/train',target_size=(156,150),\n",
    "                                                  batch_size=1,class_mode='binary',)"
   ]
  },
  {
   "cell_type": "code",
   "execution_count": 14,
   "id": "5919d181",
   "metadata": {
    "execution": {
     "iopub.execute_input": "2022-06-20T07:28:29.668179Z",
     "iopub.status.busy": "2022-06-20T07:28:29.667940Z",
     "iopub.status.idle": "2022-06-20T07:28:29.681237Z",
     "shell.execute_reply": "2022-06-20T07:28:29.680418Z",
     "shell.execute_reply.started": "2022-06-20T07:28:29.668156Z"
    }
   },
   "outputs": [
    {
     "name": "stdout",
     "output_type": "stream",
     "text": [
      "Found 1 images belonging to 1 classes.\n"
     ]
    }
   ],
   "source": [
    "validation_generator = test_datagen.flow_from_directory(\n",
    "        'data/validation',\n",
    "        target_size=(156, 150),\n",
    "        batch_size=1,\n",
    "        class_mode='binary')"
   ]
  },
  {
   "cell_type": "code",
   "execution_count": 21,
   "id": "1f784d88",
   "metadata": {
    "execution": {
     "iopub.execute_input": "2022-06-20T07:31:59.877899Z",
     "iopub.status.busy": "2022-06-20T07:31:59.877321Z",
     "iopub.status.idle": "2022-06-20T07:31:59.883196Z",
     "shell.execute_reply": "2022-06-20T07:31:59.882610Z",
     "shell.execute_reply.started": "2022-06-20T07:31:59.877875Z"
    }
   },
   "outputs": [],
   "source": [
    "img=load_img(\"data/train/Cat/1.jpg\")\n",
    "x=img_to_array(img)\n",
    "x=x.reshape((1,)+x.shape)"
   ]
  },
  {
   "cell_type": "code",
   "execution_count": 23,
   "id": "96fe47c2",
   "metadata": {
    "execution": {
     "iopub.execute_input": "2022-06-20T07:32:13.027751Z",
     "iopub.status.busy": "2022-06-20T07:32:13.026697Z",
     "iopub.status.idle": "2022-06-20T07:32:15.216401Z",
     "shell.execute_reply": "2022-06-20T07:32:15.215791Z",
     "shell.execute_reply.started": "2022-06-20T07:32:13.027591Z"
    }
   },
   "outputs": [],
   "source": [
    "i = 0\n",
    "for batch in train_datagen.flow(x, batch_size=1,\n",
    "                          save_to_dir='data/validation/Cat', save_prefix='cat', save_format='jpeg'):\n",
    "    i += 1\n",
    "    if i > 160:\n",
    "        break"
   ]
  },
  {
   "cell_type": "code",
   "execution_count": 40,
   "id": "1cd86f90-094e-4b68-b3ad-b1b9134e7f2a",
   "metadata": {
    "execution": {
     "iopub.execute_input": "2022-06-20T07:12:14.178192Z",
     "iopub.status.busy": "2022-06-20T07:12:14.177568Z",
     "iopub.status.idle": "2022-06-20T07:12:14.184846Z",
     "shell.execute_reply": "2022-06-20T07:12:14.183809Z",
     "shell.execute_reply.started": "2022-06-20T07:12:14.178156Z"
    }
   },
   "outputs": [
    {
     "data": {
      "text/plain": [
       "1"
      ]
     },
     "execution_count": 40,
     "metadata": {},
     "output_type": "execute_result"
    }
   ],
   "source": [
    "len(train_generator)"
   ]
  },
  {
   "cell_type": "code",
   "execution_count": 28,
   "id": "469e99c6",
   "metadata": {
    "execution": {
     "iopub.execute_input": "2022-06-20T07:33:43.082500Z",
     "iopub.status.busy": "2022-06-20T07:33:43.081499Z",
     "iopub.status.idle": "2022-06-20T07:33:53.297785Z",
     "shell.execute_reply": "2022-06-20T07:33:53.297137Z",
     "shell.execute_reply.started": "2022-06-20T07:33:43.082468Z"
    }
   },
   "outputs": [
    {
     "name": "stdout",
     "output_type": "stream",
     "text": [
      "Epoch 1/10\n",
      "100/100 [==============================] - 1s 8ms/step - loss: 1.0445e-22 - accuracy: 1.0000\n",
      "Epoch 2/10\n",
      "100/100 [==============================] - 1s 11ms/step - loss: 2.4242e-20 - accuracy: 1.0000\n",
      "Epoch 3/10\n",
      "100/100 [==============================] - 1s 13ms/step - loss: 1.3390e-23 - accuracy: 1.0000\n",
      "Epoch 4/10\n",
      "100/100 [==============================] - 1s 9ms/step - loss: 6.4240e-25 - accuracy: 1.0000\n",
      "Epoch 5/10\n",
      "100/100 [==============================] - 1s 8ms/step - loss: 1.2231e-24 - accuracy: 1.0000\n",
      "Epoch 6/10\n",
      "100/100 [==============================] - 1s 9ms/step - loss: 1.3252e-26 - accuracy: 1.0000\n",
      "Epoch 7/10\n",
      "100/100 [==============================] - 1s 8ms/step - loss: 2.2213e-20 - accuracy: 1.0000\n",
      "Epoch 8/10\n",
      "100/100 [==============================] - 1s 8ms/step - loss: 7.9427e-23 - accuracy: 1.0000\n",
      "Epoch 9/10\n",
      "100/100 [==============================] - 1s 7ms/step - loss: 4.6779e-25 - accuracy: 1.0000\n",
      "Epoch 10/10\n",
      "100/100 [==============================] - 1s 8ms/step - loss: 3.5608e-26 - accuracy: 1.0000\n"
     ]
    }
   ],
   "source": [
    "model.fit(train_generator,steps_per_epoch=100,epochs=10,\n",
    "    validation_data=validation_generator,\n",
    "    validation_steps=100,\n",
    "    )\n",
    "model.save_weights('weight.h5')"
   ]
  }
 ],
 "metadata": {
  "kernelspec": {
   "display_name": "Python 3 (ipykernel)",
   "language": "python",
   "name": "python3"
  },
  "language_info": {
   "codemirror_mode": {
    "name": "ipython",
    "version": 3
   },
   "file_extension": ".py",
   "mimetype": "text/x-python",
   "name": "python",
   "nbconvert_exporter": "python",
   "pygments_lexer": "ipython3",
   "version": "3.8.10"
  }
 },
 "nbformat": 4,
 "nbformat_minor": 5
}
