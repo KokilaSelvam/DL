{
  "nbformat": 4,
  "nbformat_minor": 0,
  "metadata": {
    "colab": {
      "name": "HyperParameterTuning2.ipynb",
      "provenance": [],
      "collapsed_sections": []
    },
    "kernelspec": {
      "name": "python3",
      "display_name": "Python 3"
    },
    "language_info": {
      "name": "python"
    }
  },
  "cells": [
    {
      "cell_type": "code",
      "execution_count": 1,
      "metadata": {
        "id": "QD3E8c3SfeYb"
      },
      "outputs": [],
      "source": [
        "import numpy as np\n",
        "import matplotlib.pyplot as plt\n",
        "import pandas as pd\n",
        "from sklearn.model_selection import train_test_split\n",
        "from sklearn.preprocessing import StandardScaler\n",
        "import tensorflow\n",
        "from keras.models import Sequential\n",
        "from keras.layers import Dense,Activation\n",
        "from keras.layers import Dropout\n",
        "from sklearn.metrics import accuracy_score\n"
      ]
    },
    {
      "cell_type": "code",
      "source": [
        "from google.colab import drive\n",
        "drive.mount('/content/drive')"
      ],
      "metadata": {
        "colab": {
          "base_uri": "https://localhost:8080/"
        },
        "id": "whqSOygmfre5",
        "outputId": "a83c2148-3fe6-4b34-e7cc-c88a6b374773"
      },
      "execution_count": 2,
      "outputs": [
        {
          "output_type": "stream",
          "name": "stdout",
          "text": [
            "Mounted at /content/drive\n"
          ]
        }
      ]
    },
    {
      "cell_type": "code",
      "source": [
        "dataset=pd.read_csv(\"/content/drive/MyDrive/Colab Notebooks/Churn_Modelling.csv\")\n"
      ],
      "metadata": {
        "id": "weagYromf2bn"
      },
      "execution_count": 2,
      "outputs": []
    },
    {
      "cell_type": "code",
      "source": [
        "X=dataset.iloc[:,3:13]\n",
        "Y=dataset.iloc[:,13]"
      ],
      "metadata": {
        "id": "UjycuI7GgISR"
      },
      "execution_count": 3,
      "outputs": []
    },
    {
      "cell_type": "code",
      "source": [
        "from sklearn.preprocessing import LabelEncoder,OneHotEncoder\n",
        "len1=LabelEncoder()\n",
        "X.iloc[:,1]=len1.fit_transform(X.iloc[:,1])\n",
        "len2=LabelEncoder()\n",
        "X.iloc[:,2]=len2.fit_transform(X.iloc[:,2])\n",
        "onehot=OneHotEncoder()\n",
        "X=onehot.fit_transform(X).toarray()\n",
        "X=X[:,1:]"
      ],
      "metadata": {
        "id": "lMAvaJx5gOrz"
      },
      "execution_count": 4,
      "outputs": []
    },
    {
      "cell_type": "code",
      "source": [
        "Xtrain,Xtest,Ytrain,Ytest=train_test_split(X,Y,test_size=0.20,random_state=0)\n",
        "\n",
        "l_sc=StandardScaler()\n",
        "Xtrain=l_sc.fit_transform(Xtrain)\n",
        "Xtest=l_sc.transform(Xtest)"
      ],
      "metadata": {
        "id": "ewbFT7l3gUuD"
      },
      "execution_count": 5,
      "outputs": []
    },
    {
      "cell_type": "code",
      "source": [
        "from keras.wrappers.scikit_learn import KerasClassifier\n",
        "from sklearn.model_selection import GridSearchCV\n"
      ],
      "metadata": {
        "id": "pHgdASfwhWMr"
      },
      "execution_count": 6,
      "outputs": []
    },
    {
      "cell_type": "code",
      "source": [
        "\n",
        "def create_model(layers,activation):\n",
        "    model=Sequential()\n",
        "    for i ,nodes in enumerate(layers):\n",
        "        if i==0:\n",
        "            model.add(Dense(nodes,input_dim=Xtrain.shape[1]))\n",
        "            model.add(Activation(activation))\n",
        "        else:\n",
        "            model.add(Dense(nodes))\n",
        "            model.add(Activation(activation))\n",
        "    model.add(Dense(1))\n",
        "    model.compile(optimizer='Adam',loss='binary_crossentropy',metrics=['accuracy'])\n",
        "    return model"
      ],
      "metadata": {
        "id": "iVTbY5D0gaBK"
      },
      "execution_count": 7,
      "outputs": []
    },
    {
      "cell_type": "code",
      "source": [
        "!pip install Keras"
      ],
      "metadata": {
        "id": "I4zLny-BgtZX"
      },
      "execution_count": null,
      "outputs": []
    },
    {
      "cell_type": "code",
      "source": [
        "model=KerasClassifier(build_fn=create_model,verbose=0)\n"
      ],
      "metadata": {
        "colab": {
          "base_uri": "https://localhost:8080/"
        },
        "id": "yedg6bMHgird",
        "outputId": "c38a1a28-5a20-4179-c605-93375a6b98ce"
      },
      "execution_count": 8,
      "outputs": [
        {
          "output_type": "stream",
          "name": "stderr",
          "text": [
            "/usr/local/lib/python3.7/dist-packages/ipykernel_launcher.py:1: DeprecationWarning: KerasClassifier is deprecated, use Sci-Keras (https://github.com/adriangb/scikeras) instead. See https://www.adriangb.com/scikeras/stable/migration.html for help migrating.\n",
            "  \"\"\"Entry point for launching an IPython kernel.\n"
          ]
        }
      ]
    },
    {
      "cell_type": "code",
      "source": [
        "layers=[[20],[40,20],[45,30,15]]\n",
        "activation=['sigmoid','relu']\n",
        "param_grid=dict(layers=layers,activation=activation,batch_size=[128,256],epochs=[30])\n",
        "grid=GridSearchCV(model,param_grid=param_grid)\n",
        "result=grid.fit(Xtrain,Ytrain)\n"
      ],
      "metadata": {
        "id": "n1dM5nBLiSan"
      },
      "execution_count": 9,
      "outputs": []
    },
    {
      "cell_type": "code",
      "source": [
        "result.best_score_"
      ],
      "metadata": {
        "colab": {
          "base_uri": "https://localhost:8080/"
        },
        "id": "UAGXDaO9UYgF",
        "outputId": "3be9b3fd-6704-4033-fb20-d43c6ea6228b"
      },
      "execution_count": 10,
      "outputs": [
        {
          "output_type": "execute_result",
          "data": {
            "text/plain": [
              "0.6788749933242798"
            ]
          },
          "metadata": {},
          "execution_count": 10
        }
      ]
    },
    {
      "cell_type": "code",
      "source": [
        "result.best_params_"
      ],
      "metadata": {
        "colab": {
          "base_uri": "https://localhost:8080/"
        },
        "id": "rUbp7gSXUsZq",
        "outputId": "3bfdd331-5e84-406b-a47d-6e4aec874802"
      },
      "execution_count": 11,
      "outputs": [
        {
          "output_type": "execute_result",
          "data": {
            "text/plain": [
              "{'activation': 'relu', 'batch_size': 256, 'epochs': 30, 'layers': [45, 30, 15]}"
            ]
          },
          "metadata": {},
          "execution_count": 11
        }
      ]
    },
    {
      "cell_type": "code",
      "source": [
        ""
      ],
      "metadata": {
        "id": "kLIhgPmcU9wx"
      },
      "execution_count": null,
      "outputs": []
    }
  ]
}