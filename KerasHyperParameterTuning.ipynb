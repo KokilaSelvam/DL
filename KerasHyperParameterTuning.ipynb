{
  "nbformat": 4,
  "nbformat_minor": 0,
  "metadata": {
    "colab": {
      "name": "KerasHyperParameterTuning.ipynb",
      "provenance": []
    },
    "kernelspec": {
      "name": "python3",
      "display_name": "Python 3"
    },
    "language_info": {
      "name": "python"
    }
  },
  "cells": [
    {
      "cell_type": "code",
      "execution_count": 6,
      "metadata": {
        "id": "CSEc1RJBCTLX"
      },
      "outputs": [],
      "source": [
        "import numpy as np\n",
        "import pandas as pd\n",
        "import matplotlib.pyplot as plt"
      ]
    },
    {
      "cell_type": "code",
      "source": [
        "from sklearn.model_selection import train_test_split\n",
        "from sklearn.preprocessing import StandardScaler\n",
        "from sklearn.metrics import accuracy_score"
      ],
      "metadata": {
        "id": "XUPF_EJ_Dliw"
      },
      "execution_count": 7,
      "outputs": []
    },
    {
      "cell_type": "code",
      "source": [
        "# from keras.models import Sequential\n",
        "# from keras.layers import Dense,Dropout\n",
        "import tensorflow\n",
        "# from tensorflow import keras\n",
        "print(tensorflow.__version__)"
      ],
      "metadata": {
        "colab": {
          "base_uri": "https://localhost:8080/"
        },
        "id": "iav_YQ_YDp8A",
        "outputId": "cdbae4ef-fd24-4abc-c5e4-a13846a435ba"
      },
      "execution_count": 19,
      "outputs": [
        {
          "output_type": "stream",
          "name": "stdout",
          "text": [
            "2.8.2\n"
          ]
        }
      ]
    },
    {
      "cell_type": "code",
      "source": [
        "!pip install keras"
      ],
      "metadata": {
        "colab": {
          "base_uri": "https://localhost:8080/"
        },
        "id": "HvMVvo2pK_mQ",
        "outputId": "39745111-fe16-4f22-c8b9-cb36f307a697"
      },
      "execution_count": 20,
      "outputs": [
        {
          "output_type": "stream",
          "name": "stdout",
          "text": [
            "Looking in indexes: https://pypi.org/simple, https://us-python.pkg.dev/colab-wheels/public/simple/\n",
            "Requirement already satisfied: keras in /usr/local/lib/python3.7/dist-packages (2.8.0)\n"
          ]
        }
      ]
    },
    {
      "cell_type": "code",
      "source": [
        "!python --version"
      ],
      "metadata": {
        "id": "iJmtbBwULwrg"
      },
      "execution_count": null,
      "outputs": []
    },
    {
      "cell_type": "code",
      "source": [
        "!pip install keras-tuner"
      ],
      "metadata": {
        "id": "uhGED9CiMeVD"
      },
      "execution_count": null,
      "outputs": []
    },
    {
      "cell_type": "code",
      "source": [
        "from tensorflow import keras\n",
        "from keras import layers\n",
        "from kerastuner import RandomSearch\n",
        "from keras import Sequential"
      ],
      "metadata": {
        "id": "1cMsiQClJtfI"
      },
      "execution_count": 26,
      "outputs": []
    },
    {
      "cell_type": "code",
      "source": [
        "from google.colab import drive\n",
        "drive.mount('/content/drive')"
      ],
      "metadata": {
        "colab": {
          "base_uri": "https://localhost:8080/"
        },
        "id": "Wu3jSl9DGAPU",
        "outputId": "bbb00a53-a05f-4ca6-de75-3661220959e4"
      },
      "execution_count": 9,
      "outputs": [
        {
          "output_type": "stream",
          "name": "stdout",
          "text": [
            "Drive already mounted at /content/drive; to attempt to forcibly remount, call drive.mount(\"/content/drive\", force_remount=True).\n"
          ]
        }
      ]
    },
    {
      "cell_type": "code",
      "source": [
        "dataframe=pd.read_csv('/content/drive/MyDrive/Colab Notebooks/Churn_Modelling.csv')\n",
        "print(dataframe.head())\n",
        "print(dataframe.shape)"
      ],
      "metadata": {
        "id": "i2NOwvNsGRcA"
      },
      "execution_count": null,
      "outputs": []
    },
    {
      "cell_type": "code",
      "source": [
        "X=dataframe.iloc[:,3:13]\n",
        "Y=dataframe.iloc[:,13]\n"
      ],
      "metadata": {
        "id": "Sdp0DTZKIQqn"
      },
      "execution_count": 12,
      "outputs": []
    },
    {
      "cell_type": "code",
      "source": [
        "X=X.drop(['Geography','Gender'],axis=1)\n"
      ],
      "metadata": {
        "id": "W-VEslHIIgNh"
      },
      "execution_count": 13,
      "outputs": []
    },
    {
      "cell_type": "code",
      "source": [
        "Xtrain,Xtest,Ytrain,Ytest=train_test_split(X,Y,test_size=0.2,random_state=0)"
      ],
      "metadata": {
        "id": "xgaww4zjI8F4"
      },
      "execution_count": 14,
      "outputs": []
    },
    {
      "cell_type": "code",
      "source": [
        "scaler=StandardScaler()\n",
        "Xtrain=scaler.fit_transform(Xtrain)\n",
        "Xtest=scaler.transform(Xtest)"
      ],
      "metadata": {
        "id": "NJ4g4qSlIvom"
      },
      "execution_count": 15,
      "outputs": []
    },
    {
      "cell_type": "code",
      "source": [
        "def buildModel(hp):\n",
        "  model=Sequential()\n",
        "  for i in range(hp.Int('numLayers',2,20)):\n",
        "    model.add(layers.Dense(hp.Int('units_'+str(i),min_value=32,max_value=512,step=32),activation='relu'))\n",
        "  model.add(layers.Dense(1,activation='sigmoid'))\n",
        "  model.compile(optimizer=keras.optimizers.Adam(hp.Choice('learning_rate',[1e-2,1e-3,1e-4])),loss='mean_absolute_error',metrics=['mean_absolute_error'])\n",
        "  return model "
      ],
      "metadata": {
        "id": "U7k0hiTxJj7T"
      },
      "execution_count": 32,
      "outputs": []
    },
    {
      "cell_type": "code",
      "source": [
        "tuner=RandomSearch(buildModel,objective='val_mean_absolute_error',max_trials=5,executions_per_trial=3,directory='project',project_name='Churn')"
      ],
      "metadata": {
        "id": "tIwR7DfLQhG3"
      },
      "execution_count": 33,
      "outputs": []
    },
    {
      "cell_type": "code",
      "source": [
        "tuner.search_space_summary()"
      ],
      "metadata": {
        "colab": {
          "base_uri": "https://localhost:8080/"
        },
        "id": "vpajYjLISRNG",
        "outputId": "b1b883ee-b7bb-41a0-ac04-aa09ed3a32ce"
      },
      "execution_count": 35,
      "outputs": [
        {
          "output_type": "stream",
          "name": "stdout",
          "text": [
            "Search space summary\n",
            "Default search space size: 4\n",
            "numLayers (Int)\n",
            "{'default': None, 'conditions': [], 'min_value': 2, 'max_value': 20, 'step': 1, 'sampling': None}\n",
            "units_0 (Int)\n",
            "{'default': None, 'conditions': [], 'min_value': 32, 'max_value': 512, 'step': 32, 'sampling': None}\n",
            "units_1 (Int)\n",
            "{'default': None, 'conditions': [], 'min_value': 32, 'max_value': 512, 'step': 32, 'sampling': None}\n",
            "learning_rate (Choice)\n",
            "{'default': 0.01, 'conditions': [], 'values': [0.01, 0.001, 0.0001], 'ordered': True}\n"
          ]
        }
      ]
    },
    {
      "cell_type": "code",
      "source": [
        "tuner.search(Xtrain,Ytrain,epochs=5,validation_data=(Xtest,Ytest))"
      ],
      "metadata": {
        "colab": {
          "base_uri": "https://localhost:8080/"
        },
        "id": "nHxHVBTCSl8S",
        "outputId": "ba80c629-775e-450e-f505-7b8157d513cd"
      },
      "execution_count": 36,
      "outputs": [
        {
          "output_type": "stream",
          "name": "stdout",
          "text": [
            "Trial 5 Complete [00h 00m 58s]\n",
            "val_mean_absolute_error: 0.20250000059604645\n",
            "\n",
            "Best val_mean_absolute_error So Far: 0.20250000059604645\n",
            "Total elapsed time: 00h 03m 57s\n",
            "INFO:tensorflow:Oracle triggered exit\n"
          ]
        }
      ]
    },
    {
      "cell_type": "code",
      "source": [
        "tuner.results_summary()"
      ],
      "metadata": {
        "colab": {
          "base_uri": "https://localhost:8080/"
        },
        "id": "QfXDiHohUwFz",
        "outputId": "3866da89-f60c-4f08-9b81-fea32e9cafc3"
      },
      "execution_count": 37,
      "outputs": [
        {
          "output_type": "stream",
          "name": "stdout",
          "text": [
            "Results summary\n",
            "Results in project/Churn\n",
            "Showing 10 best trials\n",
            "<keras_tuner.engine.objective.Objective object at 0x7f242e5559d0>\n",
            "Trial summary\n",
            "Hyperparameters:\n",
            "numLayers: 13\n",
            "units_0: 160\n",
            "units_1: 160\n",
            "learning_rate: 0.01\n",
            "units_2: 32\n",
            "units_3: 32\n",
            "units_4: 32\n",
            "units_5: 32\n",
            "units_6: 32\n",
            "units_7: 32\n",
            "units_8: 32\n",
            "units_9: 32\n",
            "units_10: 32\n",
            "units_11: 32\n",
            "units_12: 32\n",
            "Score: 0.20250000059604645\n",
            "Trial summary\n",
            "Hyperparameters:\n",
            "numLayers: 12\n",
            "units_0: 320\n",
            "units_1: 64\n",
            "learning_rate: 0.001\n",
            "units_2: 256\n",
            "units_3: 480\n",
            "units_4: 480\n",
            "units_5: 160\n",
            "units_6: 448\n",
            "units_7: 352\n",
            "units_8: 128\n",
            "units_9: 224\n",
            "units_10: 224\n",
            "units_11: 128\n",
            "units_12: 224\n",
            "Score: 0.20250000059604645\n",
            "Trial summary\n",
            "Hyperparameters:\n",
            "numLayers: 16\n",
            "units_0: 192\n",
            "units_1: 128\n",
            "learning_rate: 0.01\n",
            "units_2: 192\n",
            "units_3: 128\n",
            "units_4: 128\n",
            "units_5: 64\n",
            "units_6: 192\n",
            "units_7: 128\n",
            "units_8: 128\n",
            "units_9: 352\n",
            "units_10: 96\n",
            "units_11: 416\n",
            "units_12: 352\n",
            "units_13: 32\n",
            "units_14: 32\n",
            "units_15: 32\n",
            "Score: 0.20250000059604645\n",
            "Trial summary\n",
            "Hyperparameters:\n",
            "numLayers: 12\n",
            "units_0: 192\n",
            "units_1: 416\n",
            "learning_rate: 0.0001\n",
            "units_2: 352\n",
            "units_3: 96\n",
            "units_4: 224\n",
            "units_5: 224\n",
            "units_6: 96\n",
            "units_7: 416\n",
            "units_8: 224\n",
            "units_9: 256\n",
            "units_10: 288\n",
            "units_11: 352\n",
            "units_12: 64\n",
            "Score: 0.20250030855337778\n",
            "Trial summary\n",
            "Hyperparameters:\n",
            "numLayers: 8\n",
            "units_0: 352\n",
            "units_1: 160\n",
            "learning_rate: 0.0001\n",
            "units_2: 224\n",
            "units_3: 224\n",
            "units_4: 256\n",
            "units_5: 224\n",
            "units_6: 96\n",
            "units_7: 160\n",
            "units_8: 64\n",
            "units_9: 480\n",
            "units_10: 288\n",
            "units_11: 96\n",
            "units_12: 448\n",
            "Score: 0.20250200728575388\n"
          ]
        }
      ]
    }
  ]
}